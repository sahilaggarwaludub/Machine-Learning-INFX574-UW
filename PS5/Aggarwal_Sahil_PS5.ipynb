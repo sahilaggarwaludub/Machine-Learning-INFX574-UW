{
 "cells": [
  {
   "cell_type": "markdown",
   "metadata": {},
   "source": [
    "## Problem Set 5 - Boston House Prices dataset"
   ]
  },
  {
   "cell_type": "code",
   "execution_count": 1,
   "metadata": {},
   "outputs": [],
   "source": [
    "# Imports\n",
    "import pandas as pd\n",
    "import numpy as np\n",
    "from sklearn import datasets\n",
    "import seaborn as sns\n",
    "from sklearn.model_selection import train_test_split, KFold, cross_val_score\n",
    "from sklearn.linear_model import LinearRegression\n",
    "from sklearn.metrics import accuracy_score, mean_squared_error\n",
    "import random\n",
    "from datetime import datetime\n",
    "import sys\n",
    "from sklearn.mixture import GaussianMixture\n",
    "from sklearn.decomposition import PCA\n",
    "import statsmodels.formula.api as sm\n",
    "import matplotlib.pyplot as plt"
   ]
  },
  {
   "cell_type": "code",
   "execution_count": 2,
   "metadata": {},
   "outputs": [
    {
     "name": "stdout",
     "output_type": "stream",
     "text": [
      "dict_keys(['data', 'target', 'feature_names', 'DESCR'])\n",
      "Boston House Prices dataset\n",
      "===========================\n",
      "\n",
      "Notes\n",
      "------\n",
      "Data Set Characteristics:  \n",
      "\n",
      "    :Number of Instances: 506 \n",
      "\n",
      "    :Number of Attributes: 13 numeric/categorical predictive\n",
      "    \n",
      "    :Median Value (attribute 14) is usually the target\n",
      "\n",
      "    :Attribute Information (in order):\n",
      "        - CRIM     per capita crime rate by town\n",
      "        - ZN       proportion of residential land zoned for lots over 25,000 sq.ft.\n",
      "        - INDUS    proportion of non-retail business acres per town\n",
      "        - CHAS     Charles River dummy variable (= 1 if tract bounds river; 0 otherwise)\n",
      "        - NOX      nitric oxides concentration (parts per 10 million)\n",
      "        - RM       average number of rooms per dwelling\n",
      "        - AGE      proportion of owner-occupied units built prior to 1940\n",
      "        - DIS      weighted distances to five Boston employment centres\n",
      "        - RAD      index of accessibility to radial highways\n",
      "        - TAX      full-value property-tax rate per $10,000\n",
      "        - PTRATIO  pupil-teacher ratio by town\n",
      "        - B        1000(Bk - 0.63)^2 where Bk is the proportion of blacks by town\n",
      "        - LSTAT    % lower status of the population\n",
      "        - MEDV     Median value of owner-occupied homes in $1000's\n",
      "\n",
      "    :Missing Attribute Values: None\n",
      "\n",
      "    :Creator: Harrison, D. and Rubinfeld, D.L.\n",
      "\n",
      "This is a copy of UCI ML housing dataset.\n",
      "http://archive.ics.uci.edu/ml/datasets/Housing\n",
      "\n",
      "\n",
      "This dataset was taken from the StatLib library which is maintained at Carnegie Mellon University.\n",
      "\n",
      "The Boston house-price data of Harrison, D. and Rubinfeld, D.L. 'Hedonic\n",
      "prices and the demand for clean air', J. Environ. Economics & Management,\n",
      "vol.5, 81-102, 1978.   Used in Belsley, Kuh & Welsch, 'Regression diagnostics\n",
      "...', Wiley, 1980.   N.B. Various transformations are used in the table on\n",
      "pages 244-261 of the latter.\n",
      "\n",
      "The Boston house-price data has been used in many machine learning papers that address regression\n",
      "problems.   \n",
      "     \n",
      "**References**\n",
      "\n",
      "   - Belsley, Kuh & Welsch, 'Regression diagnostics: Identifying Influential Data and Sources of Collinearity', Wiley, 1980. 244-261.\n",
      "   - Quinlan,R. (1993). Combining Instance-Based and Model-Based Learning. In Proceedings on the Tenth International Conference of Machine Learning, 236-243, University of Massachusetts, Amherst. Morgan Kaufmann.\n",
      "   - many more! (see http://archive.ics.uci.edu/ml/datasets/Housing)\n",
      "\n"
     ]
    }
   ],
   "source": [
    "# Loading boston dataset\n",
    "boston = datasets.load_boston()\n",
    "print(boston.keys())  # keys in data from sklearn\n",
    "print(boston['DESCR'])  # Description of data"
   ]
  },
  {
   "cell_type": "markdown",
   "metadata": {},
   "source": [
    "### Active Data Exploration"
   ]
  },
  {
   "cell_type": "code",
   "execution_count": 3,
   "metadata": {},
   "outputs": [],
   "source": [
    "# Converting to dataframes\n",
    "\n",
    "X = pd.DataFrame(boston.data)\n",
    "Y = pd.DataFrame(boston.target)\n",
    "X.columns = boston.feature_names  # Assigning names to features\n",
    "Y.columns = ['MEDV']"
   ]
  },
  {
   "cell_type": "code",
   "execution_count": 4,
   "metadata": {},
   "outputs": [
    {
     "data": {
      "text/html": [
       "<div>\n",
       "<style scoped>\n",
       "    .dataframe tbody tr th:only-of-type {\n",
       "        vertical-align: middle;\n",
       "    }\n",
       "\n",
       "    .dataframe tbody tr th {\n",
       "        vertical-align: top;\n",
       "    }\n",
       "\n",
       "    .dataframe thead th {\n",
       "        text-align: right;\n",
       "    }\n",
       "</style>\n",
       "<table border=\"1\" class=\"dataframe\">\n",
       "  <thead>\n",
       "    <tr style=\"text-align: right;\">\n",
       "      <th></th>\n",
       "      <th>CRIM</th>\n",
       "      <th>ZN</th>\n",
       "      <th>INDUS</th>\n",
       "      <th>CHAS</th>\n",
       "      <th>NOX</th>\n",
       "      <th>RM</th>\n",
       "      <th>AGE</th>\n",
       "      <th>DIS</th>\n",
       "      <th>RAD</th>\n",
       "      <th>TAX</th>\n",
       "      <th>PTRATIO</th>\n",
       "      <th>B</th>\n",
       "      <th>LSTAT</th>\n",
       "    </tr>\n",
       "  </thead>\n",
       "  <tbody>\n",
       "    <tr>\n",
       "      <th>0</th>\n",
       "      <td>0.00632</td>\n",
       "      <td>18.0</td>\n",
       "      <td>2.31</td>\n",
       "      <td>0.0</td>\n",
       "      <td>0.538</td>\n",
       "      <td>6.575</td>\n",
       "      <td>65.2</td>\n",
       "      <td>4.0900</td>\n",
       "      <td>1.0</td>\n",
       "      <td>296.0</td>\n",
       "      <td>15.3</td>\n",
       "      <td>396.90</td>\n",
       "      <td>4.98</td>\n",
       "    </tr>\n",
       "    <tr>\n",
       "      <th>1</th>\n",
       "      <td>0.02731</td>\n",
       "      <td>0.0</td>\n",
       "      <td>7.07</td>\n",
       "      <td>0.0</td>\n",
       "      <td>0.469</td>\n",
       "      <td>6.421</td>\n",
       "      <td>78.9</td>\n",
       "      <td>4.9671</td>\n",
       "      <td>2.0</td>\n",
       "      <td>242.0</td>\n",
       "      <td>17.8</td>\n",
       "      <td>396.90</td>\n",
       "      <td>9.14</td>\n",
       "    </tr>\n",
       "    <tr>\n",
       "      <th>2</th>\n",
       "      <td>0.02729</td>\n",
       "      <td>0.0</td>\n",
       "      <td>7.07</td>\n",
       "      <td>0.0</td>\n",
       "      <td>0.469</td>\n",
       "      <td>7.185</td>\n",
       "      <td>61.1</td>\n",
       "      <td>4.9671</td>\n",
       "      <td>2.0</td>\n",
       "      <td>242.0</td>\n",
       "      <td>17.8</td>\n",
       "      <td>392.83</td>\n",
       "      <td>4.03</td>\n",
       "    </tr>\n",
       "    <tr>\n",
       "      <th>3</th>\n",
       "      <td>0.03237</td>\n",
       "      <td>0.0</td>\n",
       "      <td>2.18</td>\n",
       "      <td>0.0</td>\n",
       "      <td>0.458</td>\n",
       "      <td>6.998</td>\n",
       "      <td>45.8</td>\n",
       "      <td>6.0622</td>\n",
       "      <td>3.0</td>\n",
       "      <td>222.0</td>\n",
       "      <td>18.7</td>\n",
       "      <td>394.63</td>\n",
       "      <td>2.94</td>\n",
       "    </tr>\n",
       "    <tr>\n",
       "      <th>4</th>\n",
       "      <td>0.06905</td>\n",
       "      <td>0.0</td>\n",
       "      <td>2.18</td>\n",
       "      <td>0.0</td>\n",
       "      <td>0.458</td>\n",
       "      <td>7.147</td>\n",
       "      <td>54.2</td>\n",
       "      <td>6.0622</td>\n",
       "      <td>3.0</td>\n",
       "      <td>222.0</td>\n",
       "      <td>18.7</td>\n",
       "      <td>396.90</td>\n",
       "      <td>5.33</td>\n",
       "    </tr>\n",
       "  </tbody>\n",
       "</table>\n",
       "</div>"
      ],
      "text/plain": [
       "      CRIM    ZN  INDUS  CHAS    NOX     RM   AGE     DIS  RAD    TAX  \\\n",
       "0  0.00632  18.0   2.31   0.0  0.538  6.575  65.2  4.0900  1.0  296.0   \n",
       "1  0.02731   0.0   7.07   0.0  0.469  6.421  78.9  4.9671  2.0  242.0   \n",
       "2  0.02729   0.0   7.07   0.0  0.469  7.185  61.1  4.9671  2.0  242.0   \n",
       "3  0.03237   0.0   2.18   0.0  0.458  6.998  45.8  6.0622  3.0  222.0   \n",
       "4  0.06905   0.0   2.18   0.0  0.458  7.147  54.2  6.0622  3.0  222.0   \n",
       "\n",
       "   PTRATIO       B  LSTAT  \n",
       "0     15.3  396.90   4.98  \n",
       "1     17.8  396.90   9.14  \n",
       "2     17.8  392.83   4.03  \n",
       "3     18.7  394.63   2.94  \n",
       "4     18.7  396.90   5.33  "
      ]
     },
     "execution_count": 4,
     "metadata": {},
     "output_type": "execute_result"
    }
   ],
   "source": [
    "# Exploring data\n",
    "X.head()"
   ]
  },
  {
   "cell_type": "code",
   "execution_count": 5,
   "metadata": {},
   "outputs": [
    {
     "data": {
      "text/html": [
       "<div>\n",
       "<style scoped>\n",
       "    .dataframe tbody tr th:only-of-type {\n",
       "        vertical-align: middle;\n",
       "    }\n",
       "\n",
       "    .dataframe tbody tr th {\n",
       "        vertical-align: top;\n",
       "    }\n",
       "\n",
       "    .dataframe thead th {\n",
       "        text-align: right;\n",
       "    }\n",
       "</style>\n",
       "<table border=\"1\" class=\"dataframe\">\n",
       "  <thead>\n",
       "    <tr style=\"text-align: right;\">\n",
       "      <th></th>\n",
       "      <th>MEDV</th>\n",
       "    </tr>\n",
       "  </thead>\n",
       "  <tbody>\n",
       "    <tr>\n",
       "      <th>0</th>\n",
       "      <td>24.0</td>\n",
       "    </tr>\n",
       "    <tr>\n",
       "      <th>1</th>\n",
       "      <td>21.6</td>\n",
       "    </tr>\n",
       "    <tr>\n",
       "      <th>2</th>\n",
       "      <td>34.7</td>\n",
       "    </tr>\n",
       "    <tr>\n",
       "      <th>3</th>\n",
       "      <td>33.4</td>\n",
       "    </tr>\n",
       "    <tr>\n",
       "      <th>4</th>\n",
       "      <td>36.2</td>\n",
       "    </tr>\n",
       "  </tbody>\n",
       "</table>\n",
       "</div>"
      ],
      "text/plain": [
       "   MEDV\n",
       "0  24.0\n",
       "1  21.6\n",
       "2  34.7\n",
       "3  33.4\n",
       "4  36.2"
      ]
     },
     "execution_count": 5,
     "metadata": {},
     "output_type": "execute_result"
    }
   ],
   "source": [
    "Y.head()"
   ]
  },
  {
   "cell_type": "code",
   "execution_count": 6,
   "metadata": {},
   "outputs": [
    {
     "data": {
      "text/plain": [
       "0.0    471\n",
       "1.0     35\n",
       "Name: CHAS, dtype: int64"
      ]
     },
     "execution_count": 6,
     "metadata": {},
     "output_type": "execute_result"
    }
   ],
   "source": [
    "X.CHAS.value_counts()"
   ]
  },
  {
   "cell_type": "code",
   "execution_count": 7,
   "metadata": {},
   "outputs": [
    {
     "data": {
      "text/plain": [
       "24.0    132\n",
       "5.0     115\n",
       "4.0     110\n",
       "3.0      38\n",
       "6.0      26\n",
       "8.0      24\n",
       "2.0      24\n",
       "1.0      20\n",
       "7.0      17\n",
       "Name: RAD, dtype: int64"
      ]
     },
     "execution_count": 7,
     "metadata": {},
     "output_type": "execute_result"
    }
   ],
   "source": [
    "X.RAD.value_counts()"
   ]
  },
  {
   "cell_type": "code",
   "execution_count": 8,
   "metadata": {},
   "outputs": [
    {
     "data": {
      "text/plain": [
       "(506, 13)"
      ]
     },
     "execution_count": 8,
     "metadata": {},
     "output_type": "execute_result"
    }
   ],
   "source": [
    "X.shape"
   ]
  },
  {
   "cell_type": "code",
   "execution_count": 9,
   "metadata": {},
   "outputs": [
    {
     "name": "stdout",
     "output_type": "stream",
     "text": [
      "<class 'pandas.core.frame.DataFrame'>\n",
      "RangeIndex: 506 entries, 0 to 505\n",
      "Data columns (total 13 columns):\n",
      "CRIM       506 non-null float64\n",
      "ZN         506 non-null float64\n",
      "INDUS      506 non-null float64\n",
      "CHAS       506 non-null float64\n",
      "NOX        506 non-null float64\n",
      "RM         506 non-null float64\n",
      "AGE        506 non-null float64\n",
      "DIS        506 non-null float64\n",
      "RAD        506 non-null float64\n",
      "TAX        506 non-null float64\n",
      "PTRATIO    506 non-null float64\n",
      "B          506 non-null float64\n",
      "LSTAT      506 non-null float64\n",
      "dtypes: float64(13)\n",
      "memory usage: 51.5 KB\n"
     ]
    }
   ],
   "source": [
    "X.info()"
   ]
  },
  {
   "cell_type": "code",
   "execution_count": 10,
   "metadata": {},
   "outputs": [
    {
     "data": {
      "text/plain": [
       "Index(['CRIM', 'ZN', 'INDUS', 'CHAS', 'NOX', 'RM', 'AGE', 'DIS', 'RAD', 'TAX',\n",
       "       'PTRATIO', 'B', 'LSTAT'],\n",
       "      dtype='object')"
      ]
     },
     "execution_count": 10,
     "metadata": {},
     "output_type": "execute_result"
    }
   ],
   "source": [
    "X.columns"
   ]
  },
  {
   "cell_type": "code",
   "execution_count": 11,
   "metadata": {},
   "outputs": [],
   "source": [
    "#Engineered features from existing features\n",
    "\n",
    "X['CRIM_ZN']=np.multiply(X['CRIM'],X['ZN']) \n",
    "X['ZN_INDUS'] = np.multiply(X['ZN'],X['INDUS']) \n",
    "X['NOX_B'] = np.multiply(X['NOX'],X['B']) \n",
    "X['LSTAT_PTRATIO'] = np.multiply(X['LSTAT'],X['PTRATIO']) \n",
    "X['CRIM_B'] = np.multiply(X['CRIM'],X['B']) \n",
    "X['LSTAT_RM'] = np.multiply(X['LSTAT'],X['RM']) \n",
    "X['DIS_RM'] = np.multiply(X['DIS'],X['RM']) \n",
    "X['TAX_log'] = np.log(X['TAX'])\n",
    "X['ZN_square'] = np.square(X['ZN'])\n",
    "X['RAD_RM'] = np.multiply(X['RAD'],X['RM']) "
   ]
  },
  {
   "cell_type": "code",
   "execution_count": 12,
   "metadata": {},
   "outputs": [],
   "source": [
    "# generating new random features\n",
    "\n",
    "Z = datasets.make_classification(n_samples=506,n_features=11, n_redundant=0,scale=5,n_informative=2,flip_y=0.5)    \n",
    "Z = pd.DataFrame(Z[0], columns=['B0','B1','B2','B3','B4','B5','B6','B7','B8','B9','B10']) # Assigning col names"
   ]
  },
  {
   "cell_type": "code",
   "execution_count": 13,
   "metadata": {},
   "outputs": [],
   "source": [
    "X = pd.concat([X,Z],axis=1) # Concating new external features with exisitng dataframe"
   ]
  },
  {
   "cell_type": "code",
   "execution_count": 14,
   "metadata": {},
   "outputs": [
    {
     "data": {
      "text/plain": [
       "Index(['CRIM', 'ZN', 'INDUS', 'CHAS', 'NOX', 'RM', 'AGE', 'DIS', 'RAD', 'TAX',\n",
       "       'PTRATIO', 'B', 'LSTAT', 'CRIM_ZN', 'ZN_INDUS', 'NOX_B',\n",
       "       'LSTAT_PTRATIO', 'CRIM_B', 'LSTAT_RM', 'DIS_RM', 'TAX_log', 'ZN_square',\n",
       "       'RAD_RM', 'B0', 'B1', 'B2', 'B3', 'B4', 'B5', 'B6', 'B7', 'B8', 'B9',\n",
       "       'B10'],\n",
       "      dtype='object')"
      ]
     },
     "execution_count": 14,
     "metadata": {},
     "output_type": "execute_result"
    }
   ],
   "source": [
    "X.columns # Columns in new dataframe"
   ]
  },
  {
   "cell_type": "code",
   "execution_count": 15,
   "metadata": {},
   "outputs": [
    {
     "data": {
      "text/plain": [
       "(506, 34)"
      ]
     },
     "execution_count": 15,
     "metadata": {},
     "output_type": "execute_result"
    }
   ],
   "source": [
    "X.shape # Shape of new dataframe"
   ]
  },
  {
   "cell_type": "code",
   "execution_count": 16,
   "metadata": {},
   "outputs": [],
   "source": [
    "# Summary statistics\n",
    "\n",
    "mean_stats = X.mean().to_frame('Mean') # Calculating mean for the dataframe\n",
    "range_stats = (X.max()-X.min()).to_frame('Range') # Calculating range for the dataframe\n",
    "missing_stats = X.isnull().sum().to_frame('Missing Values') # Calculating missing values for the dataframe\n",
    "\n",
    "summary_stats = pd.concat([mean_stats,range_stats,missing_stats],axis=1) #Concatenating the above dataframes.\n",
    "\n",
    "corr = {}\n",
    "for i in X.columns:\n",
    "    corr[i]=(Y['MEDV'].corr(X[i])) \n",
    "summary_stats['Corr'] = corr.values()"
   ]
  },
  {
   "cell_type": "code",
   "execution_count": 17,
   "metadata": {},
   "outputs": [
    {
     "data": {
      "text/html": [
       "<div>\n",
       "<style scoped>\n",
       "    .dataframe tbody tr th:only-of-type {\n",
       "        vertical-align: middle;\n",
       "    }\n",
       "\n",
       "    .dataframe tbody tr th {\n",
       "        vertical-align: top;\n",
       "    }\n",
       "\n",
       "    .dataframe thead th {\n",
       "        text-align: right;\n",
       "    }\n",
       "</style>\n",
       "<table border=\"1\" class=\"dataframe\">\n",
       "  <thead>\n",
       "    <tr style=\"text-align: right;\">\n",
       "      <th></th>\n",
       "      <th>Mean</th>\n",
       "      <th>Range</th>\n",
       "      <th>Missing Values</th>\n",
       "      <th>Corr</th>\n",
       "    </tr>\n",
       "  </thead>\n",
       "  <tbody>\n",
       "    <tr>\n",
       "      <th>CRIM</th>\n",
       "      <td>3.593761</td>\n",
       "      <td>88.969880</td>\n",
       "      <td>0</td>\n",
       "      <td>-0.385832</td>\n",
       "    </tr>\n",
       "    <tr>\n",
       "      <th>ZN</th>\n",
       "      <td>11.363636</td>\n",
       "      <td>100.000000</td>\n",
       "      <td>0</td>\n",
       "      <td>0.360445</td>\n",
       "    </tr>\n",
       "    <tr>\n",
       "      <th>INDUS</th>\n",
       "      <td>11.136779</td>\n",
       "      <td>27.280000</td>\n",
       "      <td>0</td>\n",
       "      <td>-0.483725</td>\n",
       "    </tr>\n",
       "    <tr>\n",
       "      <th>CHAS</th>\n",
       "      <td>0.069170</td>\n",
       "      <td>1.000000</td>\n",
       "      <td>0</td>\n",
       "      <td>0.175260</td>\n",
       "    </tr>\n",
       "    <tr>\n",
       "      <th>NOX</th>\n",
       "      <td>0.554695</td>\n",
       "      <td>0.486000</td>\n",
       "      <td>0</td>\n",
       "      <td>-0.427321</td>\n",
       "    </tr>\n",
       "    <tr>\n",
       "      <th>RM</th>\n",
       "      <td>6.284634</td>\n",
       "      <td>5.219000</td>\n",
       "      <td>0</td>\n",
       "      <td>0.695360</td>\n",
       "    </tr>\n",
       "    <tr>\n",
       "      <th>AGE</th>\n",
       "      <td>68.574901</td>\n",
       "      <td>97.100000</td>\n",
       "      <td>0</td>\n",
       "      <td>-0.376955</td>\n",
       "    </tr>\n",
       "    <tr>\n",
       "      <th>DIS</th>\n",
       "      <td>3.795043</td>\n",
       "      <td>10.996900</td>\n",
       "      <td>0</td>\n",
       "      <td>0.249929</td>\n",
       "    </tr>\n",
       "    <tr>\n",
       "      <th>RAD</th>\n",
       "      <td>9.549407</td>\n",
       "      <td>23.000000</td>\n",
       "      <td>0</td>\n",
       "      <td>-0.381626</td>\n",
       "    </tr>\n",
       "    <tr>\n",
       "      <th>TAX</th>\n",
       "      <td>408.237154</td>\n",
       "      <td>524.000000</td>\n",
       "      <td>0</td>\n",
       "      <td>-0.468536</td>\n",
       "    </tr>\n",
       "    <tr>\n",
       "      <th>PTRATIO</th>\n",
       "      <td>18.455534</td>\n",
       "      <td>9.400000</td>\n",
       "      <td>0</td>\n",
       "      <td>-0.507787</td>\n",
       "    </tr>\n",
       "    <tr>\n",
       "      <th>B</th>\n",
       "      <td>356.674032</td>\n",
       "      <td>396.580000</td>\n",
       "      <td>0</td>\n",
       "      <td>0.333461</td>\n",
       "    </tr>\n",
       "    <tr>\n",
       "      <th>LSTAT</th>\n",
       "      <td>12.653063</td>\n",
       "      <td>36.240000</td>\n",
       "      <td>0</td>\n",
       "      <td>-0.737663</td>\n",
       "    </tr>\n",
       "    <tr>\n",
       "      <th>CRIM_ZN</th>\n",
       "      <td>0.926290</td>\n",
       "      <td>16.505200</td>\n",
       "      <td>0</td>\n",
       "      <td>0.343415</td>\n",
       "    </tr>\n",
       "    <tr>\n",
       "      <th>ZN_INDUS</th>\n",
       "      <td>41.310455</td>\n",
       "      <td>421.120000</td>\n",
       "      <td>0</td>\n",
       "      <td>0.289367</td>\n",
       "    </tr>\n",
       "    <tr>\n",
       "      <th>NOX_B</th>\n",
       "      <td>193.832699</td>\n",
       "      <td>345.471740</td>\n",
       "      <td>0</td>\n",
       "      <td>0.026168</td>\n",
       "    </tr>\n",
       "    <tr>\n",
       "      <th>LSTAT_PTRATIO</th>\n",
       "      <td>239.290334</td>\n",
       "      <td>741.563000</td>\n",
       "      <td>0</td>\n",
       "      <td>-0.750410</td>\n",
       "    </tr>\n",
       "    <tr>\n",
       "      <th>CRIM_B</th>\n",
       "      <td>986.214804</td>\n",
       "      <td>35312.504110</td>\n",
       "      <td>0</td>\n",
       "      <td>-0.311844</td>\n",
       "    </tr>\n",
       "    <tr>\n",
       "      <th>LSTAT_RM</th>\n",
       "      <td>76.446221</td>\n",
       "      <td>188.952730</td>\n",
       "      <td>0</td>\n",
       "      <td>-0.729524</td>\n",
       "    </tr>\n",
       "    <tr>\n",
       "      <th>DIS_RM</th>\n",
       "      <td>24.153519</td>\n",
       "      <td>76.882186</td>\n",
       "      <td>0</td>\n",
       "      <td>0.361049</td>\n",
       "    </tr>\n",
       "    <tr>\n",
       "      <th>TAX_log</th>\n",
       "      <td>5.931405</td>\n",
       "      <td>1.335564</td>\n",
       "      <td>0</td>\n",
       "      <td>-0.474701</td>\n",
       "    </tr>\n",
       "    <tr>\n",
       "      <th>ZN_square</th>\n",
       "      <td>671.994071</td>\n",
       "      <td>10000.000000</td>\n",
       "      <td>0</td>\n",
       "      <td>0.314601</td>\n",
       "    </tr>\n",
       "    <tr>\n",
       "      <th>RAD_RM</th>\n",
       "      <td>58.733255</td>\n",
       "      <td>205.014000</td>\n",
       "      <td>0</td>\n",
       "      <td>-0.327594</td>\n",
       "    </tr>\n",
       "    <tr>\n",
       "      <th>B0</th>\n",
       "      <td>-0.123669</td>\n",
       "      <td>27.211950</td>\n",
       "      <td>0</td>\n",
       "      <td>-0.007161</td>\n",
       "    </tr>\n",
       "    <tr>\n",
       "      <th>B1</th>\n",
       "      <td>0.123860</td>\n",
       "      <td>32.827418</td>\n",
       "      <td>0</td>\n",
       "      <td>0.018022</td>\n",
       "    </tr>\n",
       "    <tr>\n",
       "      <th>B2</th>\n",
       "      <td>-0.085677</td>\n",
       "      <td>33.163307</td>\n",
       "      <td>0</td>\n",
       "      <td>-0.030859</td>\n",
       "    </tr>\n",
       "    <tr>\n",
       "      <th>B3</th>\n",
       "      <td>-0.467975</td>\n",
       "      <td>29.539978</td>\n",
       "      <td>0</td>\n",
       "      <td>0.031915</td>\n",
       "    </tr>\n",
       "    <tr>\n",
       "      <th>B4</th>\n",
       "      <td>-0.042872</td>\n",
       "      <td>29.000657</td>\n",
       "      <td>0</td>\n",
       "      <td>0.101245</td>\n",
       "    </tr>\n",
       "    <tr>\n",
       "      <th>B5</th>\n",
       "      <td>-0.334074</td>\n",
       "      <td>29.108221</td>\n",
       "      <td>0</td>\n",
       "      <td>0.019462</td>\n",
       "    </tr>\n",
       "    <tr>\n",
       "      <th>B6</th>\n",
       "      <td>0.354582</td>\n",
       "      <td>29.778918</td>\n",
       "      <td>0</td>\n",
       "      <td>0.033849</td>\n",
       "    </tr>\n",
       "    <tr>\n",
       "      <th>B7</th>\n",
       "      <td>-0.104950</td>\n",
       "      <td>34.936064</td>\n",
       "      <td>0</td>\n",
       "      <td>0.004903</td>\n",
       "    </tr>\n",
       "    <tr>\n",
       "      <th>B8</th>\n",
       "      <td>0.009075</td>\n",
       "      <td>30.274040</td>\n",
       "      <td>0</td>\n",
       "      <td>0.003950</td>\n",
       "    </tr>\n",
       "    <tr>\n",
       "      <th>B9</th>\n",
       "      <td>0.105322</td>\n",
       "      <td>36.395322</td>\n",
       "      <td>0</td>\n",
       "      <td>-0.010298</td>\n",
       "    </tr>\n",
       "    <tr>\n",
       "      <th>B10</th>\n",
       "      <td>-0.291353</td>\n",
       "      <td>27.627881</td>\n",
       "      <td>0</td>\n",
       "      <td>0.037340</td>\n",
       "    </tr>\n",
       "  </tbody>\n",
       "</table>\n",
       "</div>"
      ],
      "text/plain": [
       "                     Mean         Range  Missing Values      Corr\n",
       "CRIM             3.593761     88.969880               0 -0.385832\n",
       "ZN              11.363636    100.000000               0  0.360445\n",
       "INDUS           11.136779     27.280000               0 -0.483725\n",
       "CHAS             0.069170      1.000000               0  0.175260\n",
       "NOX              0.554695      0.486000               0 -0.427321\n",
       "RM               6.284634      5.219000               0  0.695360\n",
       "AGE             68.574901     97.100000               0 -0.376955\n",
       "DIS              3.795043     10.996900               0  0.249929\n",
       "RAD              9.549407     23.000000               0 -0.381626\n",
       "TAX            408.237154    524.000000               0 -0.468536\n",
       "PTRATIO         18.455534      9.400000               0 -0.507787\n",
       "B              356.674032    396.580000               0  0.333461\n",
       "LSTAT           12.653063     36.240000               0 -0.737663\n",
       "CRIM_ZN          0.926290     16.505200               0  0.343415\n",
       "ZN_INDUS        41.310455    421.120000               0  0.289367\n",
       "NOX_B          193.832699    345.471740               0  0.026168\n",
       "LSTAT_PTRATIO  239.290334    741.563000               0 -0.750410\n",
       "CRIM_B         986.214804  35312.504110               0 -0.311844\n",
       "LSTAT_RM        76.446221    188.952730               0 -0.729524\n",
       "DIS_RM          24.153519     76.882186               0  0.361049\n",
       "TAX_log          5.931405      1.335564               0 -0.474701\n",
       "ZN_square      671.994071  10000.000000               0  0.314601\n",
       "RAD_RM          58.733255    205.014000               0 -0.327594\n",
       "B0              -0.123669     27.211950               0 -0.007161\n",
       "B1               0.123860     32.827418               0  0.018022\n",
       "B2              -0.085677     33.163307               0 -0.030859\n",
       "B3              -0.467975     29.539978               0  0.031915\n",
       "B4              -0.042872     29.000657               0  0.101245\n",
       "B5              -0.334074     29.108221               0  0.019462\n",
       "B6               0.354582     29.778918               0  0.033849\n",
       "B7              -0.104950     34.936064               0  0.004903\n",
       "B8               0.009075     30.274040               0  0.003950\n",
       "B9               0.105322     36.395322               0 -0.010298\n",
       "B10             -0.291353     27.627881               0  0.037340"
      ]
     },
     "execution_count": 17,
     "metadata": {},
     "output_type": "execute_result"
    }
   ],
   "source": [
    "summary_stats"
   ]
  },
  {
   "cell_type": "code",
   "execution_count": 18,
   "metadata": {},
   "outputs": [],
   "source": [
    "# Defining data and the target class\n",
    "\n",
    "data = pd.concat([X,Y],axis=1) # Commbining target class with data\n",
    "Y = data['MEDV']"
   ]
  },
  {
   "cell_type": "code",
   "execution_count": 19,
   "metadata": {},
   "outputs": [
    {
     "data": {
      "image/png": "[encoded data removed]",
      "text/plain": [
       "<matplotlib.figure.Figure at 0x1a1588fcf8>"
      ]
     },
     "metadata": {},
     "output_type": "display_data"
    }
   ],
   "source": [
    "# Scatter Plot for features\n",
    "\n",
    "#Relevant Features\n",
    "\n",
    "plt.figure(figsize=(16,35))\n",
    "\n",
    "# Plot 1 - Crime by Price\n",
    "plt.rcParams['axes.facecolor'] = 'whitesmoke'\n",
    "plt.subplot(4,2,1)\n",
    "plt.scatter(data['CRIM'],data['MEDV'],c='darkslategrey')\n",
    "plt.xlabel('Per capita crime rate by town')\n",
    "plt.ylabel('Median value of owner-occupied homes in $1000s')\n",
    "\n",
    "\n",
    "# Plot 2 - No of rooms by Price\n",
    "plt.rcParams['axes.facecolor'] = 'whitesmoke'\n",
    "plt.subplot(4,2,2)\n",
    "plt.scatter(data['RM'],data['MEDV'],c='darkslategrey')\n",
    "plt.xlabel('Average number of rooms per dwelling')\n",
    "plt.ylabel('Median value of owner-occupied homes in $1000s')\n",
    "\n",
    "# Plot 3 - % of lower status pop by price\n",
    "plt.rcParams['axes.facecolor'] = 'whitesmoke'\n",
    "plt.subplot(4,2,3)\n",
    "plt.scatter(data['LSTAT'],data['MEDV'],c='darkslategrey')\n",
    "plt.xlabel('% Lower status of the poplulation')\n",
    "plt.ylabel('Median value of owner-occupied homes in $1000s')\n",
    "\n",
    "# Plot 4 - NO levels by Price\n",
    "plt.rcParams['axes.facecolor'] = 'whitesmoke'\n",
    "plt.subplot(4,2,4)\n",
    "plt.scatter(data['NOX'],data['MEDV'],c='darkslategrey')\n",
    "plt.xlabel('Nitric oxides concentration')\n",
    "plt.ylabel('Median value of owner-occupied homes in $1000s')\n",
    "\n",
    "# PLot 5 - Distance to emp centers by Price\n",
    "plt.rcParams['axes.facecolor'] = 'whitesmoke'\n",
    "plt.subplot(4,2,5)\n",
    "plt.scatter(data['DIS'],data['MEDV'],c='darkslategrey')\n",
    "plt.xlabel('Distances to five Boston employment centres')\n",
    "plt.ylabel('Median value of owner-occupied homes in $1000s')\n",
    "\n",
    "#Plot 6 - Pupil teacher ratio by price\n",
    "plt.rcParams['axes.facecolor'] = 'whitesmoke'\n",
    "plt.subplot(4,2,6)\n",
    "plt.scatter(data['LSTAT_PTRATIO'],data['MEDV'],c='darkslategrey')\n",
    "plt.xlabel('LSTAT*PTRATIO Engineered')\n",
    "plt.ylabel('Median value of owner-occupied homes in $1000s')\n",
    "\n",
    "\n",
    "\n",
    "plt.show()\n"
   ]
  },
  {
   "cell_type": "code",
   "execution_count": 20,
   "metadata": {},
   "outputs": [
    {
     "data": {
      "image/png": "[encoded data removed]",
      "text/plain": [
       "<matplotlib.figure.Figure at 0x1a15e452e8>"
      ]
     },
     "metadata": {},
     "output_type": "display_data"
    }
   ],
   "source": [
    "# Irrelevant Features\n",
    "\n",
    "plt.figure(figsize=(16,17))\n",
    "\n",
    "# Plot 1 - Age of house by Price\n",
    "plt.rcParams['axes.facecolor'] = 'whitesmoke'\n",
    "plt.subplot(2,2,1)\n",
    "plt.scatter(data['AGE'],data['MEDV'],c='darkslategrey')\n",
    "plt.xlabel('Proportion of owner-occupied units built prior to 1940')\n",
    "plt.ylabel('Median value of owner-occupied homes in $1000s')\n",
    "\n",
    "\n",
    "# Plot 2 - Proportion of blacks by Price\n",
    "plt.rcParams['axes.facecolor'] = 'whitesmoke'\n",
    "plt.subplot(2,2,2)\n",
    "plt.scatter(data['B'],data['MEDV'],c='darkslategrey')\n",
    "plt.xlabel('Proportion of blacks by town')\n",
    "plt.ylabel('Median value of owner-occupied homes in $1000s')\n",
    "\n",
    "# Plot 3 - External feature by price\n",
    "plt.rcParams['axes.facecolor'] = 'whitesmoke'\n",
    "plt.subplot(2,2,3)\n",
    "plt.scatter(data['B0'],data['MEDV'],c='darkslategrey')\n",
    "plt.xlabel('External feature - B0')\n",
    "plt.ylabel('Median value of owner-occupied homes in $1000s')\n",
    "\n",
    "# Plot 4 - Index of accessibility to radial highways by Price\n",
    "plt.rcParams['axes.facecolor'] = 'whitesmoke'\n",
    "plt.subplot(2,2,4)\n",
    "plt.scatter(data['RAD'],data['MEDV'],c='darkslategrey')\n",
    "plt.xlabel('Index of accessibility to radial highways')\n",
    "plt.ylabel('Median value of owner-occupied homes in $1000s')\n",
    "\n",
    "\n",
    "plt.show()\n",
    "\n"
   ]
  },
  {
   "cell_type": "markdown",
   "metadata": {},
   "source": [
    "### Loss Function"
   ]
  },
  {
   "cell_type": "code",
   "execution_count": 21,
   "metadata": {},
   "outputs": [],
   "source": [
    "# Splitting into test and train\n",
    "\n",
    "X_train, X_test, Y_train, Y_test = train_test_split(X, Y, test_size=0.33, random_state=42)"
   ]
  },
  {
   "cell_type": "code",
   "execution_count": 22,
   "metadata": {},
   "outputs": [],
   "source": [
    "# Linear Regression\n",
    "\n",
    "model = LinearRegression()\n",
    "model = model.fit(X_train, Y_train)\n",
    "YPred = model.predict(X_test)"
   ]
  },
  {
   "cell_type": "code",
   "execution_count": 23,
   "metadata": {},
   "outputs": [],
   "source": [
    "def loss_function(model, X_test, Y_test):\n",
    "    \n",
    "    \"\"\"\n",
    "    Calculates loss function as a measure of cross validation for the passed model.\n",
    "    Takes three inputs: a) the estimated model \n",
    "                        b) the test data X\n",
    "                        c) and the test labels \n",
    "    \"\"\"\n",
    "    \n",
    "    X_test = np.concatenate((np.ones((X_test.shape[0],1)), X_test), axis=1)  # Concatenating a column of 1's for intercept\n",
    "    coeff = np.concatenate((np.matrix(model.intercept_),(np.matrix(model.coef_).T)),axis=0) # Transposing beta values for legal matrix multiplication\n",
    "    a = np.matrix(Y_test).T - X_test.dot(coeff) # Error term\n",
    "    loss = (a.T @ a)/X_test.shape[0] # Loss function\n",
    "    return loss"
   ]
  },
  {
   "cell_type": "code",
   "execution_count": 24,
   "metadata": {},
   "outputs": [
    {
     "data": {
      "text/plain": [
       "matrix([[15.50634024]])"
      ]
     },
     "execution_count": 24,
     "metadata": {},
     "output_type": "execute_result"
    }
   ],
   "source": [
    "loss_function(model,X_test,Y_test)"
   ]
  },
  {
   "cell_type": "code",
   "execution_count": 25,
   "metadata": {},
   "outputs": [
    {
     "data": {
      "text/plain": [
       "15.506340239659856"
      ]
     },
     "execution_count": 25,
     "metadata": {},
     "output_type": "execute_result"
    }
   ],
   "source": [
    "# Using sklearn mean squared error just to compare with manual loss function\n",
    "\n",
    "mean_squared_error(YPred, Y_test)"
   ]
  },
  {
   "cell_type": "markdown",
   "metadata": {},
   "source": [
    "### A few simple regressions"
   ]
  },
  {
   "cell_type": "code",
   "execution_count": 26,
   "metadata": {},
   "outputs": [],
   "source": [
    "# Running simple regression\n",
    "\n",
    "# 1st Model with 2 features\n",
    "X1 = data[['RM','LSTAT']] # Highly correlated"
   ]
  },
  {
   "cell_type": "code",
   "execution_count": 27,
   "metadata": {},
   "outputs": [],
   "source": [
    "# Kfold with K=10 for Linear Regression\n",
    "\n",
    "def kfold_mse(df,Y,n_split=10):\n",
    "    \"\"\"\n",
    "    Performs K fold cross validation and calculates the mean squared error\n",
    "    for the passed dataframe(should not have target class) and the target class.\n",
    "    \"\"\"\n",
    "    mse=[]\n",
    "    for train,test in KFold(n_splits=n_split).split(df):  # Sklearn Kfold method for KFOLD CV - returns train and tet indices\n",
    "        \n",
    "        # Defining train and test data for each fold\n",
    "        X_train, X_test = df.iloc[train], df.iloc[test]\n",
    "        y_train, y_test = Y.iloc[train], Y.iloc[test]\n",
    "       \n",
    "        # Linear regression\n",
    "        clf = LinearRegression()\n",
    "        clf.fit(X_train,y_train)\n",
    "        \n",
    "        # Call loss function\n",
    "        mse.append(loss_function(clf,X_test,y_test))\n",
    "    \n",
    "    return np.mean(mse)"
   ]
  },
  {
   "cell_type": "code",
   "execution_count": 28,
   "metadata": {},
   "outputs": [
    {
     "data": {
      "text/plain": [
       "38.38482773415987"
      ]
     },
     "execution_count": 28,
     "metadata": {},
     "output_type": "execute_result"
    }
   ],
   "source": [
    "kfold_mse(X1,Y)"
   ]
  },
  {
   "cell_type": "code",
   "execution_count": 29,
   "metadata": {},
   "outputs": [],
   "source": [
    "# 2nd model with 10 features\n",
    "\n",
    "X2 = data[['RM','LSTAT','NOX','TAX','PTRATIO','LSTAT_PTRATIO','AGE','CRIM','B0','B8']]"
   ]
  },
  {
   "cell_type": "code",
   "execution_count": 30,
   "metadata": {},
   "outputs": [
    {
     "data": {
      "text/plain": [
       "37.666164216992996"
      ]
     },
     "execution_count": 30,
     "metadata": {},
     "output_type": "execute_result"
    }
   ],
   "source": [
    "kfold_mse(X2,Y)"
   ]
  },
  {
   "cell_type": "code",
   "execution_count": 31,
   "metadata": {},
   "outputs": [],
   "source": [
    "# All features - Full Model\n",
    "\n",
    "X3 = data.drop('MEDV',axis=1)\n"
   ]
  },
  {
   "cell_type": "code",
   "execution_count": 32,
   "metadata": {},
   "outputs": [
    {
     "data": {
      "text/plain": [
       "24.54700089338337"
      ]
     },
     "execution_count": 32,
     "metadata": {},
     "output_type": "execute_result"
    }
   ],
   "source": [
    "kfold_mse(X3,Y)"
   ]
  },
  {
   "cell_type": "markdown",
   "metadata": {},
   "source": [
    "The best performance is by the full model as it has the lowest mean squared error."
   ]
  },
  {
   "cell_type": "markdown",
   "metadata": {},
   "source": [
    "### Find the best model"
   ]
  },
  {
   "cell_type": "markdown",
   "metadata": {},
   "source": [
    "We have 34 features so we can build 2**34 models which includes all possible combinations of features."
   ]
  },
  {
   "cell_type": "code",
   "execution_count": 33,
   "metadata": {},
   "outputs": [
    {
     "data": {
      "text/plain": [
       "17179869184"
      ]
     },
     "execution_count": 33,
     "metadata": {},
     "output_type": "execute_result"
    }
   ],
   "source": [
    "2**34"
   ]
  },
  {
   "cell_type": "code",
   "execution_count": 34,
   "metadata": {},
   "outputs": [
    {
     "name": "stdout",
     "output_type": "stream",
     "text": [
      "Time taken - 0:00:10.408822\n",
      "Number of mdoels evauated -  600\n",
      "Bytes consumed 5496\n"
     ]
    }
   ],
   "source": [
    "mse=[]\n",
    "\n",
    "startTime = datetime.now() # To keep track of time the loop runs.\n",
    "\n",
    "for j in range(1,21):\n",
    "    for i in range(1,31):\n",
    "        features = random.sample(list(X.columns),i) # Selects i features at random from X dataframe.\n",
    "        Y = data['MEDV']\n",
    "        mse.append(kfold_mse(data[features],Y,n_split=10)) # Kfold CV Linear Regression\n",
    "print('Time taken','-',datetime.now() - startTime) # Final time\n",
    "\n",
    "print('Number of mdoels evauated - ',len(mse)) # Total models evaluated\n",
    "\n",
    "print('Bytes consumed',sys.getsizeof(mse)) # Memory consumed by the number of models\n"
   ]
  },
  {
   "cell_type": "code",
   "execution_count": 35,
   "metadata": {},
   "outputs": [
    {
     "data": {
      "text/plain": [
       "157367601725.44"
      ]
     },
     "execution_count": 35,
     "metadata": {},
     "output_type": "execute_result"
    }
   ],
   "source": [
    "((5496*17179869184)/600)"
   ]
  },
  {
   "cell_type": "markdown",
   "metadata": {},
   "source": [
    "600 models take ~9 seconds. So approximately, 17179869184 models will take 257698037 seconds or 71582 hours.\n",
    "600 models take 5496 bytes of memory so 17179869184 will take 157367601725 bytes of memory or ~157 GB of memory. It would not be possible to store all results on our computers memory. "
   ]
  },
  {
   "cell_type": "markdown",
   "metadata": {},
   "source": [
    "### Forward Selection"
   ]
  },
  {
   "cell_type": "code",
   "execution_count": 36,
   "metadata": {},
   "outputs": [
    {
     "data": {
      "text/plain": [
       "(506, 34)"
      ]
     },
     "execution_count": 36,
     "metadata": {},
     "output_type": "execute_result"
    }
   ],
   "source": [
    "X.shape # Feature Set"
   ]
  },
  {
   "cell_type": "code",
   "execution_count": 37,
   "metadata": {},
   "outputs": [
    {
     "name": "stdout",
     "output_type": "stream",
     "text": [
      "{'CRIM': 77.68794078129832, 'ZN': 79.34700679551293, 'INDUS': 70.44480413675049, 'CHAS': 90.67640673481797, 'NOX': 74.15075363696404, 'RM': 49.96785597294386, 'AGE': 78.25079719122725, 'DIS': 87.49377626526041, 'RAD': 79.91494202512737, 'TAX': 72.28198981387725, 'PTRATIO': 66.72309452760933, 'B': 81.46082359507983, 'LSTAT': 41.82895807216404, 'CRIM_ZN': 79.92335902694523, 'ZN_INDUS': 84.56761988370607, 'NOX_B': 107.79040647799897, 'LSTAT_PTRATIO': 39.542496242406685, 'CRIM_B': 92.04421510521115, 'LSTAT_RM': 42.97119118212706, 'DIS_RM': 80.43701490528852, 'TAX_log': 71.5342450241462, 'ZN_square': 82.48538572307977, 'RAD_RM': 83.73178677538911, 'B0': 92.35177476767741, 'B1': 92.24085084945007, 'B2': 92.37616141497479, 'B3': 92.47887052410934, 'B4': 91.55709430448903, 'B5': 92.22212055707138, 'B6': 92.21884370687681, 'B7': 92.68683434930297, 'B8': 92.42004145363401, 'B9': 92.39437443559447, 'B10': 92.1093086244495}\n"
     ]
    },
    {
     "data": {
      "text/plain": [
       "('LSTAT_PTRATIO', 39.542496242406685)"
      ]
     },
     "execution_count": 37,
     "metadata": {},
     "output_type": "execute_result"
    }
   ],
   "source": [
    "# Evaluating best 1-Feature model\n",
    "\n",
    "mse={} # Dictionary to hold mse value for each feature model\n",
    "for i in X.columns:  # One feature at a time\n",
    "    mse[i]=(kfold_mse(data[[i]],Y,n_split=10))  # performing kfold CV with k=10\n",
    "print(mse)\n",
    "min(mse.items(), key=lambda x: x[1]) # Finding the feature with least mse"
   ]
  },
  {
   "cell_type": "code",
   "execution_count": 38,
   "metadata": {},
   "outputs": [],
   "source": [
    "\n",
    "features = ['LSTAT_PTRATIO'] # First feature as evaluated above\n",
    "\n",
    "cols = list(X.columns.drop('LSTAT_PTRATIO')) # Droping it from iterator"
   ]
  },
  {
   "cell_type": "code",
   "execution_count": 39,
   "metadata": {},
   "outputs": [
    {
     "name": "stdout",
     "output_type": "stream",
     "text": [
      "['LSTAT_PTRATIO']\n",
      "['LSTAT_PTRATIO', 'RM']\n",
      "['LSTAT_PTRATIO', 'RM', 'PTRATIO']\n",
      "['LSTAT_PTRATIO', 'RM', 'PTRATIO', 'LSTAT_RM']\n",
      "['LSTAT_PTRATIO', 'RM', 'PTRATIO', 'LSTAT_RM', 'LSTAT']\n",
      "['LSTAT_PTRATIO', 'RM', 'PTRATIO', 'LSTAT_RM', 'LSTAT', 'CRIM']\n",
      "['LSTAT_PTRATIO', 'RM', 'PTRATIO', 'LSTAT_RM', 'LSTAT', 'CRIM', 'DIS_RM']\n",
      "['LSTAT_PTRATIO', 'RM', 'PTRATIO', 'LSTAT_RM', 'LSTAT', 'CRIM', 'DIS_RM', 'CHAS']\n",
      "['LSTAT_PTRATIO', 'RM', 'PTRATIO', 'LSTAT_RM', 'LSTAT', 'CRIM', 'DIS_RM', 'CHAS', 'CRIM_ZN']\n",
      "['LSTAT_PTRATIO', 'RM', 'PTRATIO', 'LSTAT_RM', 'LSTAT', 'CRIM', 'DIS_RM', 'CHAS', 'CRIM_ZN', 'B0']\n",
      "['LSTAT_PTRATIO', 'RM', 'PTRATIO', 'LSTAT_RM', 'LSTAT', 'CRIM', 'DIS_RM', 'CHAS', 'CRIM_ZN', 'B0', 'B4']\n",
      "['LSTAT_PTRATIO', 'RM', 'PTRATIO', 'LSTAT_RM', 'LSTAT', 'CRIM', 'DIS_RM', 'CHAS', 'CRIM_ZN', 'B0', 'B4', 'B7']\n",
      "['LSTAT_PTRATIO', 'RM', 'PTRATIO', 'LSTAT_RM', 'LSTAT', 'CRIM', 'DIS_RM', 'CHAS', 'CRIM_ZN', 'B0', 'B4', 'B7', 'B6']\n",
      "['LSTAT_PTRATIO', 'RM', 'PTRATIO', 'LSTAT_RM', 'LSTAT', 'CRIM', 'DIS_RM', 'CHAS', 'CRIM_ZN', 'B0', 'B4', 'B7', 'B6', 'B10']\n",
      "['LSTAT_PTRATIO', 'RM', 'PTRATIO', 'LSTAT_RM', 'LSTAT', 'CRIM', 'DIS_RM', 'CHAS', 'CRIM_ZN', 'B0', 'B4', 'B7', 'B6', 'B10', 'B9']\n",
      "['LSTAT_PTRATIO', 'RM', 'PTRATIO', 'LSTAT_RM', 'LSTAT', 'CRIM', 'DIS_RM', 'CHAS', 'CRIM_ZN', 'B0', 'B4', 'B7', 'B6', 'B10', 'B9', 'B8']\n",
      "['LSTAT_PTRATIO', 'RM', 'PTRATIO', 'LSTAT_RM', 'LSTAT', 'CRIM', 'DIS_RM', 'CHAS', 'CRIM_ZN', 'B0', 'B4', 'B7', 'B6', 'B10', 'B9', 'B8', 'ZN_INDUS']\n",
      "['LSTAT_PTRATIO', 'RM', 'PTRATIO', 'LSTAT_RM', 'LSTAT', 'CRIM', 'DIS_RM', 'CHAS', 'CRIM_ZN', 'B0', 'B4', 'B7', 'B6', 'B10', 'B9', 'B8', 'ZN_INDUS', 'ZN_square']\n",
      "['LSTAT_PTRATIO', 'RM', 'PTRATIO', 'LSTAT_RM', 'LSTAT', 'CRIM', 'DIS_RM', 'CHAS', 'CRIM_ZN', 'B0', 'B4', 'B7', 'B6', 'B10', 'B9', 'B8', 'ZN_INDUS', 'ZN_square', 'NOX']\n",
      "['LSTAT_PTRATIO', 'RM', 'PTRATIO', 'LSTAT_RM', 'LSTAT', 'CRIM', 'DIS_RM', 'CHAS', 'CRIM_ZN', 'B0', 'B4', 'B7', 'B6', 'B10', 'B9', 'B8', 'ZN_INDUS', 'ZN_square', 'NOX', 'RAD']\n",
      "['LSTAT_PTRATIO', 'RM', 'PTRATIO', 'LSTAT_RM', 'LSTAT', 'CRIM', 'DIS_RM', 'CHAS', 'CRIM_ZN', 'B0', 'B4', 'B7', 'B6', 'B10', 'B9', 'B8', 'ZN_INDUS', 'ZN_square', 'NOX', 'RAD', 'RAD_RM']\n",
      "['LSTAT_PTRATIO', 'RM', 'PTRATIO', 'LSTAT_RM', 'LSTAT', 'CRIM', 'DIS_RM', 'CHAS', 'CRIM_ZN', 'B0', 'B4', 'B7', 'B6', 'B10', 'B9', 'B8', 'ZN_INDUS', 'ZN_square', 'NOX', 'RAD', 'RAD_RM', 'B3']\n",
      "['LSTAT_PTRATIO', 'RM', 'PTRATIO', 'LSTAT_RM', 'LSTAT', 'CRIM', 'DIS_RM', 'CHAS', 'CRIM_ZN', 'B0', 'B4', 'B7', 'B6', 'B10', 'B9', 'B8', 'ZN_INDUS', 'ZN_square', 'NOX', 'RAD', 'RAD_RM', 'B3', 'B2']\n",
      "['LSTAT_PTRATIO', 'RM', 'PTRATIO', 'LSTAT_RM', 'LSTAT', 'CRIM', 'DIS_RM', 'CHAS', 'CRIM_ZN', 'B0', 'B4', 'B7', 'B6', 'B10', 'B9', 'B8', 'ZN_INDUS', 'ZN_square', 'NOX', 'RAD', 'RAD_RM', 'B3', 'B2', 'B5']\n",
      "['LSTAT_PTRATIO', 'RM', 'PTRATIO', 'LSTAT_RM', 'LSTAT', 'CRIM', 'DIS_RM', 'CHAS', 'CRIM_ZN', 'B0', 'B4', 'B7', 'B6', 'B10', 'B9', 'B8', 'ZN_INDUS', 'ZN_square', 'NOX', 'RAD', 'RAD_RM', 'B3', 'B2', 'B5', 'B1']\n",
      "['LSTAT_PTRATIO', 'RM', 'PTRATIO', 'LSTAT_RM', 'LSTAT', 'CRIM', 'DIS_RM', 'CHAS', 'CRIM_ZN', 'B0', 'B4', 'B7', 'B6', 'B10', 'B9', 'B8', 'ZN_INDUS', 'ZN_square', 'NOX', 'RAD', 'RAD_RM', 'B3', 'B2', 'B5', 'B1', 'ZN']\n",
      "['LSTAT_PTRATIO', 'RM', 'PTRATIO', 'LSTAT_RM', 'LSTAT', 'CRIM', 'DIS_RM', 'CHAS', 'CRIM_ZN', 'B0', 'B4', 'B7', 'B6', 'B10', 'B9', 'B8', 'ZN_INDUS', 'ZN_square', 'NOX', 'RAD', 'RAD_RM', 'B3', 'B2', 'B5', 'B1', 'ZN', 'TAX']\n",
      "['LSTAT_PTRATIO', 'RM', 'PTRATIO', 'LSTAT_RM', 'LSTAT', 'CRIM', 'DIS_RM', 'CHAS', 'CRIM_ZN', 'B0', 'B4', 'B7', 'B6', 'B10', 'B9', 'B8', 'ZN_INDUS', 'ZN_square', 'NOX', 'RAD', 'RAD_RM', 'B3', 'B2', 'B5', 'B1', 'ZN', 'TAX', 'INDUS']\n",
      "['LSTAT_PTRATIO', 'RM', 'PTRATIO', 'LSTAT_RM', 'LSTAT', 'CRIM', 'DIS_RM', 'CHAS', 'CRIM_ZN', 'B0', 'B4', 'B7', 'B6', 'B10', 'B9', 'B8', 'ZN_INDUS', 'ZN_square', 'NOX', 'RAD', 'RAD_RM', 'B3', 'B2', 'B5', 'B1', 'ZN', 'TAX', 'INDUS', 'DIS']\n",
      "['LSTAT_PTRATIO', 'RM', 'PTRATIO', 'LSTAT_RM', 'LSTAT', 'CRIM', 'DIS_RM', 'CHAS', 'CRIM_ZN', 'B0', 'B4', 'B7', 'B6', 'B10', 'B9', 'B8', 'ZN_INDUS', 'ZN_square', 'NOX', 'RAD', 'RAD_RM', 'B3', 'B2', 'B5', 'B1', 'ZN', 'TAX', 'INDUS', 'DIS', 'NOX_B']\n",
      "['LSTAT_PTRATIO', 'RM', 'PTRATIO', 'LSTAT_RM', 'LSTAT', 'CRIM', 'DIS_RM', 'CHAS', 'CRIM_ZN', 'B0', 'B4', 'B7', 'B6', 'B10', 'B9', 'B8', 'ZN_INDUS', 'ZN_square', 'NOX', 'RAD', 'RAD_RM', 'B3', 'B2', 'B5', 'B1', 'ZN', 'TAX', 'INDUS', 'DIS', 'NOX_B', 'CRIM_B']\n",
      "['LSTAT_PTRATIO', 'RM', 'PTRATIO', 'LSTAT_RM', 'LSTAT', 'CRIM', 'DIS_RM', 'CHAS', 'CRIM_ZN', 'B0', 'B4', 'B7', 'B6', 'B10', 'B9', 'B8', 'ZN_INDUS', 'ZN_square', 'NOX', 'RAD', 'RAD_RM', 'B3', 'B2', 'B5', 'B1', 'ZN', 'TAX', 'INDUS', 'DIS', 'NOX_B', 'CRIM_B', 'B']\n",
      "['LSTAT_PTRATIO', 'RM', 'PTRATIO', 'LSTAT_RM', 'LSTAT', 'CRIM', 'DIS_RM', 'CHAS', 'CRIM_ZN', 'B0', 'B4', 'B7', 'B6', 'B10', 'B9', 'B8', 'ZN_INDUS', 'ZN_square', 'NOX', 'RAD', 'RAD_RM', 'B3', 'B2', 'B5', 'B1', 'ZN', 'TAX', 'INDUS', 'DIS', 'NOX_B', 'CRIM_B', 'B', 'TAX_log']\n"
     ]
    }
   ],
   "source": [
    "# Repeating untill all features are included\n",
    "bic=[]\n",
    "aic=[]\n",
    "r=[]\n",
    "\n",
    "while len(features)!=34:  # Run untill all features are added\n",
    "    print(features) # Prints selected models at each iteration\n",
    "    mse={}\n",
    "    for i in cols:\n",
    "        mse[i]=(kfold_mse(data[[*features,i]],Y,n_split=10))\n",
    "    #print(mse,'\\n')\n",
    "    result = min(mse.items(), key=lambda x: x[1])[0]\n",
    "    features.append(result) # Append to the list\n",
    "    \n",
    "    model = sm.ols(formula='MEDV ~ '+' + '.join(features), data=data).fit() # OLS with selected features\n",
    "    bic.append(model.bic) # Calculate BIC\n",
    "    aic.append(model.aic) # Calculate AIC\n",
    "    r.append(model.rsquared_adj) # Calculate Adjusted R squared\n",
    "    cols.remove(result) # Remove the selected feature from iterator\n"
   ]
  },
  {
   "cell_type": "code",
   "execution_count": 40,
   "metadata": {},
   "outputs": [
    {
     "data": {
      "text/plain": [
       "19"
      ]
     },
     "execution_count": 40,
     "metadata": {},
     "output_type": "execute_result"
    }
   ],
   "source": [
    "np.argmin(bic) # Finding the index at which bic was minimum"
   ]
  },
  {
   "cell_type": "code",
   "execution_count": 41,
   "metadata": {},
   "outputs": [
    {
     "name": "stdout",
     "output_type": "stream",
     "text": [
      "['LSTAT_PTRATIO', 'RM', 'PTRATIO', 'LSTAT_RM', 'LSTAT', 'CRIM', 'DIS_RM', 'CHAS', 'CRIM_ZN', 'B0', 'B4', 'B7', 'B6', 'B10', 'B9', 'B8', 'ZN_INDUS', 'ZN_square', 'NOX', 'RAD']\n"
     ]
    }
   ],
   "source": [
    "best_model = features[:(np.argmin(bic) + 1)] # Finding best model based on BIC\n",
    "print(best_model)"
   ]
  },
  {
   "cell_type": "code",
   "execution_count": 42,
   "metadata": {},
   "outputs": [
    {
     "data": {
      "image/png": "[encoded data removed]",
      "text/plain": [
       "<matplotlib.figure.Figure at 0x1a16a22860>"
      ]
     },
     "metadata": {},
     "output_type": "display_data"
    }
   ],
   "source": [
    "# Plotting BIC vs Number of features\n",
    "\n",
    "plt.figure(figsize=(16,7))\n",
    "plt.plot(range(1,34),bic,marker='o')\n",
    "plt.grid(b=True)\n",
    "plt.axvline(x=np.argmin(bic)+1,c='r')\n",
    "plt.show()"
   ]
  },
  {
   "cell_type": "code",
   "execution_count": 43,
   "metadata": {},
   "outputs": [
    {
     "data": {
      "text/plain": [
       "26"
      ]
     },
     "execution_count": 43,
     "metadata": {},
     "output_type": "execute_result"
    }
   ],
   "source": [
    "# Finding the index at which AIC was minimum\n",
    "np.argmin(aic)"
   ]
  },
  {
   "cell_type": "code",
   "execution_count": 44,
   "metadata": {},
   "outputs": [
    {
     "data": {
      "image/png": "[encoded data removed]",
      "text/plain": [
       "<matplotlib.figure.Figure at 0x1a16f7e0b8>"
      ]
     },
     "metadata": {},
     "output_type": "display_data"
    }
   ],
   "source": [
    "# PLotting AIC vs No of features\n",
    "plt.figure(figsize=(16,7))\n",
    "plt.plot(range(1,34),aic,marker='o')\n",
    "plt.grid(b=True)\n",
    "plt.axvline(x=np.argmin(aic)+1,c='r')\n",
    "plt.show()"
   ]
  },
  {
   "cell_type": "markdown",
   "metadata": {},
   "source": [
    "AIC is also constant after 20 features. hence 20 features is the best measure."
   ]
  },
  {
   "cell_type": "code",
   "execution_count": 45,
   "metadata": {},
   "outputs": [
    {
     "data": {
      "text/plain": [
       "28"
      ]
     },
     "execution_count": 45,
     "metadata": {},
     "output_type": "execute_result"
    }
   ],
   "source": [
    "# Finding the index with maximum value of Adjusted rsquare\n",
    "np.argmax(r)"
   ]
  },
  {
   "cell_type": "code",
   "execution_count": 46,
   "metadata": {},
   "outputs": [
    {
     "data": {
      "image/png": "[encoded data removed]",
      "text/plain": [
       "<matplotlib.figure.Figure at 0x1a1588f438>"
      ]
     },
     "metadata": {},
     "output_type": "display_data"
    }
   ],
   "source": [
    "# Plotting adjusted rsquare vs No of features\n",
    "plt.figure(figsize=(16,7))\n",
    "plt.plot(range(1,34),r,marker='o')\n",
    "plt.grid(b=True)\n",
    "plt.axvline(x=np.argmax(r)+1,c='r')\n",
    "plt.show()"
   ]
  },
  {
   "cell_type": "markdown",
   "metadata": {},
   "source": [
    "Choosing BIC as the best measure to evaluate model."
   ]
  },
  {
   "cell_type": "code",
   "execution_count": 48,
   "metadata": {},
   "outputs": [
    {
     "data": {
      "text/plain": [
       "['LSTAT_PTRATIO',\n",
       " 'RM',\n",
       " 'PTRATIO',\n",
       " 'LSTAT_RM',\n",
       " 'LSTAT',\n",
       " 'CRIM',\n",
       " 'DIS_RM',\n",
       " 'CHAS',\n",
       " 'CRIM_ZN',\n",
       " 'B0',\n",
       " 'B4',\n",
       " 'B7',\n",
       " 'B6',\n",
       " 'B10',\n",
       " 'B9',\n",
       " 'B8',\n",
       " 'ZN_INDUS',\n",
       " 'ZN_square',\n",
       " 'NOX',\n",
       " 'RAD']"
      ]
     },
     "execution_count": 48,
     "metadata": {},
     "output_type": "execute_result"
    }
   ],
   "source": [
    "best_model"
   ]
  },
  {
   "cell_type": "code",
   "execution_count": 49,
   "metadata": {},
   "outputs": [],
   "source": [
    "best_model_data = data[best_model]"
   ]
  },
  {
   "cell_type": "code",
   "execution_count": 50,
   "metadata": {},
   "outputs": [
    {
     "data": {
      "text/plain": [
       "22.48967170678288"
      ]
     },
     "execution_count": 50,
     "metadata": {},
     "output_type": "execute_result"
    }
   ],
   "source": [
    "kfold_mse(best_model_data,Y)"
   ]
  },
  {
   "cell_type": "markdown",
   "metadata": {},
   "source": [
    "### Principle Components"
   ]
  },
  {
   "cell_type": "code",
   "execution_count": 51,
   "metadata": {},
   "outputs": [
    {
     "data": {
      "text/plain": [
       "PCA(copy=True, iterated_power='auto', n_components=34, random_state=None,\n",
       "  svd_solver='auto', tol=0.0, whiten=False)"
      ]
     },
     "execution_count": 51,
     "metadata": {},
     "output_type": "execute_result"
    }
   ],
   "source": [
    "# PCA on raw features\n",
    "\n",
    "X = data.drop('MEDV',axis=1)\n",
    "pca = PCA(n_components=34)\n",
    "pca.fit(X)"
   ]
  },
  {
   "cell_type": "code",
   "execution_count": 52,
   "metadata": {},
   "outputs": [],
   "source": [
    "# Explained variance by each component\n",
    "\n",
    "explained_variance = list(pca.explained_variance_)"
   ]
  },
  {
   "cell_type": "code",
   "execution_count": 53,
   "metadata": {},
   "outputs": [],
   "source": [
    "var = pd.DataFrame()\n",
    "var['Components'] = range(1,35)\n",
    "var['explained_variance'] = explained_variance\n"
   ]
  },
  {
   "cell_type": "code",
   "execution_count": 54,
   "metadata": {},
   "outputs": [
    {
     "data": {
      "text/plain": [
       "<matplotlib.axes._subplots.AxesSubplot at 0x1a19cd7dd8>"
      ]
     },
     "execution_count": 54,
     "metadata": {},
     "output_type": "execute_result"
    },
    {
     "data": {
      "image/png": "[encoded data removed]",
      "text/plain": [
       "<matplotlib.figure.Figure at 0x1a19da0390>"
      ]
     },
     "metadata": {},
     "output_type": "display_data"
    }
   ],
   "source": [
    "plt.figure(figsize=(16,7))\n",
    "sns.barplot(x=\"Components\", y=\"explained_variance\", data=var, color=\"salmon\", saturation=.5)"
   ]
  },
  {
   "cell_type": "code",
   "execution_count": 55,
   "metadata": {},
   "outputs": [],
   "source": [
    "# Proportion of variance explained by each principle component\n",
    "\n",
    "proportion_explained_variance = list(pca.explained_variance_ratio_)\n",
    "var['proportion_explained_variance'] = proportion_explained_variance"
   ]
  },
  {
   "cell_type": "code",
   "execution_count": 56,
   "metadata": {},
   "outputs": [
    {
     "data": {
      "text/plain": [
       "<matplotlib.axes._subplots.AxesSubplot at 0x1a1a2e2b00>"
      ]
     },
     "execution_count": 56,
     "metadata": {},
     "output_type": "execute_result"
    },
    {
     "data": {
      "image/png": "[encoded data removed]",
      "text/plain": [
       "<matplotlib.figure.Figure at 0x1a1a3ba4a8>"
      ]
     },
     "metadata": {},
     "output_type": "display_data"
    }
   ],
   "source": [
    "plt.figure(figsize=(16,7))\n",
    "sns.barplot(x=\"Components\", y=\"proportion_explained_variance\", data=var, color=\"salmon\", saturation=.5)"
   ]
  },
  {
   "cell_type": "code",
   "execution_count": 57,
   "metadata": {},
   "outputs": [
    {
     "data": {
      "text/html": [
       "<div>\n",
       "<style scoped>\n",
       "    .dataframe tbody tr th:only-of-type {\n",
       "        vertical-align: middle;\n",
       "    }\n",
       "\n",
       "    .dataframe tbody tr th {\n",
       "        vertical-align: top;\n",
       "    }\n",
       "\n",
       "    .dataframe thead th {\n",
       "        text-align: right;\n",
       "    }\n",
       "</style>\n",
       "<table border=\"1\" class=\"dataframe\">\n",
       "  <thead>\n",
       "    <tr style=\"text-align: right;\">\n",
       "      <th></th>\n",
       "      <th>Components</th>\n",
       "      <th>explained_variance</th>\n",
       "      <th>proportion_explained_variance</th>\n",
       "      <th>cumulative_explained_variance</th>\n",
       "    </tr>\n",
       "  </thead>\n",
       "  <tbody>\n",
       "    <tr>\n",
       "      <th>0</th>\n",
       "      <td>1</td>\n",
       "      <td>7.212079e+06</td>\n",
       "      <td>6.876010e-01</td>\n",
       "      <td>0.687601</td>\n",
       "    </tr>\n",
       "    <tr>\n",
       "      <th>1</th>\n",
       "      <td>2</td>\n",
       "      <td>3.221240e+06</td>\n",
       "      <td>3.071136e-01</td>\n",
       "      <td>0.994715</td>\n",
       "    </tr>\n",
       "    <tr>\n",
       "      <th>2</th>\n",
       "      <td>3</td>\n",
       "      <td>3.225703e+04</td>\n",
       "      <td>3.075391e-03</td>\n",
       "      <td>0.997790</td>\n",
       "    </tr>\n",
       "    <tr>\n",
       "      <th>3</th>\n",
       "      <td>4</td>\n",
       "      <td>1.032608e+04</td>\n",
       "      <td>9.844905e-04</td>\n",
       "      <td>0.998774</td>\n",
       "    </tr>\n",
       "    <tr>\n",
       "      <th>4</th>\n",
       "      <td>5</td>\n",
       "      <td>7.583269e+03</td>\n",
       "      <td>7.229902e-04</td>\n",
       "      <td>0.999497</td>\n",
       "    </tr>\n",
       "    <tr>\n",
       "      <th>5</th>\n",
       "      <td>6</td>\n",
       "      <td>3.352565e+03</td>\n",
       "      <td>3.196342e-04</td>\n",
       "      <td>0.999817</td>\n",
       "    </tr>\n",
       "    <tr>\n",
       "      <th>6</th>\n",
       "      <td>7</td>\n",
       "      <td>7.177881e+02</td>\n",
       "      <td>6.843405e-05</td>\n",
       "      <td>0.999886</td>\n",
       "    </tr>\n",
       "    <tr>\n",
       "      <th>7</th>\n",
       "      <td>8</td>\n",
       "      <td>4.980363e+02</td>\n",
       "      <td>4.748287e-05</td>\n",
       "      <td>0.999933</td>\n",
       "    </tr>\n",
       "    <tr>\n",
       "      <th>8</th>\n",
       "      <td>9</td>\n",
       "      <td>2.178277e+02</td>\n",
       "      <td>2.076773e-05</td>\n",
       "      <td>0.999954</td>\n",
       "    </tr>\n",
       "    <tr>\n",
       "      <th>9</th>\n",
       "      <td>10</td>\n",
       "      <td>8.732562e+01</td>\n",
       "      <td>8.325640e-06</td>\n",
       "      <td>0.999962</td>\n",
       "    </tr>\n",
       "    <tr>\n",
       "      <th>10</th>\n",
       "      <td>11</td>\n",
       "      <td>4.901707e+01</td>\n",
       "      <td>4.673297e-06</td>\n",
       "      <td>0.999967</td>\n",
       "    </tr>\n",
       "    <tr>\n",
       "      <th>11</th>\n",
       "      <td>12</td>\n",
       "      <td>4.865833e+01</td>\n",
       "      <td>4.639094e-06</td>\n",
       "      <td>0.999971</td>\n",
       "    </tr>\n",
       "    <tr>\n",
       "      <th>12</th>\n",
       "      <td>13</td>\n",
       "      <td>3.160873e+01</td>\n",
       "      <td>3.013582e-06</td>\n",
       "      <td>0.999974</td>\n",
       "    </tr>\n",
       "    <tr>\n",
       "      <th>13</th>\n",
       "      <td>14</td>\n",
       "      <td>2.993692e+01</td>\n",
       "      <td>2.854192e-06</td>\n",
       "      <td>0.999977</td>\n",
       "    </tr>\n",
       "    <tr>\n",
       "      <th>14</th>\n",
       "      <td>15</td>\n",
       "      <td>2.840139e+01</td>\n",
       "      <td>2.707794e-06</td>\n",
       "      <td>0.999980</td>\n",
       "    </tr>\n",
       "    <tr>\n",
       "      <th>15</th>\n",
       "      <td>16</td>\n",
       "      <td>2.777413e+01</td>\n",
       "      <td>2.647990e-06</td>\n",
       "      <td>0.999983</td>\n",
       "    </tr>\n",
       "    <tr>\n",
       "      <th>16</th>\n",
       "      <td>17</td>\n",
       "      <td>2.657309e+01</td>\n",
       "      <td>2.533483e-06</td>\n",
       "      <td>0.999985</td>\n",
       "    </tr>\n",
       "    <tr>\n",
       "      <th>17</th>\n",
       "      <td>18</td>\n",
       "      <td>2.468141e+01</td>\n",
       "      <td>2.353130e-06</td>\n",
       "      <td>0.999988</td>\n",
       "    </tr>\n",
       "    <tr>\n",
       "      <th>18</th>\n",
       "      <td>19</td>\n",
       "      <td>2.384865e+01</td>\n",
       "      <td>2.273735e-06</td>\n",
       "      <td>0.999990</td>\n",
       "    </tr>\n",
       "    <tr>\n",
       "      <th>19</th>\n",
       "      <td>20</td>\n",
       "      <td>2.185445e+01</td>\n",
       "      <td>2.083607e-06</td>\n",
       "      <td>0.999992</td>\n",
       "    </tr>\n",
       "    <tr>\n",
       "      <th>20</th>\n",
       "      <td>21</td>\n",
       "      <td>2.115714e+01</td>\n",
       "      <td>2.017125e-06</td>\n",
       "      <td>0.999994</td>\n",
       "    </tr>\n",
       "    <tr>\n",
       "      <th>21</th>\n",
       "      <td>22</td>\n",
       "      <td>1.891829e+01</td>\n",
       "      <td>1.803673e-06</td>\n",
       "      <td>0.999996</td>\n",
       "    </tr>\n",
       "    <tr>\n",
       "      <th>22</th>\n",
       "      <td>23</td>\n",
       "      <td>1.678726e+01</td>\n",
       "      <td>1.600500e-06</td>\n",
       "      <td>0.999997</td>\n",
       "    </tr>\n",
       "    <tr>\n",
       "      <th>23</th>\n",
       "      <td>24</td>\n",
       "      <td>1.304201e+01</td>\n",
       "      <td>1.243427e-06</td>\n",
       "      <td>0.999999</td>\n",
       "    </tr>\n",
       "    <tr>\n",
       "      <th>24</th>\n",
       "      <td>25</td>\n",
       "      <td>9.326061e+00</td>\n",
       "      <td>8.891484e-07</td>\n",
       "      <td>0.999999</td>\n",
       "    </tr>\n",
       "    <tr>\n",
       "      <th>25</th>\n",
       "      <td>26</td>\n",
       "      <td>2.484601e+00</td>\n",
       "      <td>2.368823e-07</td>\n",
       "      <td>1.000000</td>\n",
       "    </tr>\n",
       "    <tr>\n",
       "      <th>26</th>\n",
       "      <td>27</td>\n",
       "      <td>2.226161e+00</td>\n",
       "      <td>2.122426e-07</td>\n",
       "      <td>1.000000</td>\n",
       "    </tr>\n",
       "    <tr>\n",
       "      <th>27</th>\n",
       "      <td>28</td>\n",
       "      <td>8.014914e-01</td>\n",
       "      <td>7.641433e-08</td>\n",
       "      <td>1.000000</td>\n",
       "    </tr>\n",
       "    <tr>\n",
       "      <th>28</th>\n",
       "      <td>29</td>\n",
       "      <td>2.474220e-01</td>\n",
       "      <td>2.358926e-08</td>\n",
       "      <td>1.000000</td>\n",
       "    </tr>\n",
       "    <tr>\n",
       "      <th>29</th>\n",
       "      <td>30</td>\n",
       "      <td>1.082963e-01</td>\n",
       "      <td>1.032499e-08</td>\n",
       "      <td>1.000000</td>\n",
       "    </tr>\n",
       "    <tr>\n",
       "      <th>30</th>\n",
       "      <td>31</td>\n",
       "      <td>5.583747e-02</td>\n",
       "      <td>5.323555e-09</td>\n",
       "      <td>1.000000</td>\n",
       "    </tr>\n",
       "    <tr>\n",
       "      <th>31</th>\n",
       "      <td>32</td>\n",
       "      <td>1.408124e-02</td>\n",
       "      <td>1.342508e-09</td>\n",
       "      <td>1.000000</td>\n",
       "    </tr>\n",
       "    <tr>\n",
       "      <th>32</th>\n",
       "      <td>33</td>\n",
       "      <td>1.945734e-03</td>\n",
       "      <td>1.855066e-10</td>\n",
       "      <td>1.000000</td>\n",
       "    </tr>\n",
       "    <tr>\n",
       "      <th>33</th>\n",
       "      <td>34</td>\n",
       "      <td>3.418829e-04</td>\n",
       "      <td>3.259518e-11</td>\n",
       "      <td>1.000000</td>\n",
       "    </tr>\n",
       "  </tbody>\n",
       "</table>\n",
       "</div>"
      ],
      "text/plain": [
       "    Components  explained_variance  proportion_explained_variance  \\\n",
       "0            1        7.212079e+06                   6.876010e-01   \n",
       "1            2        3.221240e+06                   3.071136e-01   \n",
       "2            3        3.225703e+04                   3.075391e-03   \n",
       "3            4        1.032608e+04                   9.844905e-04   \n",
       "4            5        7.583269e+03                   7.229902e-04   \n",
       "5            6        3.352565e+03                   3.196342e-04   \n",
       "6            7        7.177881e+02                   6.843405e-05   \n",
       "7            8        4.980363e+02                   4.748287e-05   \n",
       "8            9        2.178277e+02                   2.076773e-05   \n",
       "9           10        8.732562e+01                   8.325640e-06   \n",
       "10          11        4.901707e+01                   4.673297e-06   \n",
       "11          12        4.865833e+01                   4.639094e-06   \n",
       "12          13        3.160873e+01                   3.013582e-06   \n",
       "13          14        2.993692e+01                   2.854192e-06   \n",
       "14          15        2.840139e+01                   2.707794e-06   \n",
       "15          16        2.777413e+01                   2.647990e-06   \n",
       "16          17        2.657309e+01                   2.533483e-06   \n",
       "17          18        2.468141e+01                   2.353130e-06   \n",
       "18          19        2.384865e+01                   2.273735e-06   \n",
       "19          20        2.185445e+01                   2.083607e-06   \n",
       "20          21        2.115714e+01                   2.017125e-06   \n",
       "21          22        1.891829e+01                   1.803673e-06   \n",
       "22          23        1.678726e+01                   1.600500e-06   \n",
       "23          24        1.304201e+01                   1.243427e-06   \n",
       "24          25        9.326061e+00                   8.891484e-07   \n",
       "25          26        2.484601e+00                   2.368823e-07   \n",
       "26          27        2.226161e+00                   2.122426e-07   \n",
       "27          28        8.014914e-01                   7.641433e-08   \n",
       "28          29        2.474220e-01                   2.358926e-08   \n",
       "29          30        1.082963e-01                   1.032499e-08   \n",
       "30          31        5.583747e-02                   5.323555e-09   \n",
       "31          32        1.408124e-02                   1.342508e-09   \n",
       "32          33        1.945734e-03                   1.855066e-10   \n",
       "33          34        3.418829e-04                   3.259518e-11   \n",
       "\n",
       "    cumulative_explained_variance  \n",
       "0                        0.687601  \n",
       "1                        0.994715  \n",
       "2                        0.997790  \n",
       "3                        0.998774  \n",
       "4                        0.999497  \n",
       "5                        0.999817  \n",
       "6                        0.999886  \n",
       "7                        0.999933  \n",
       "8                        0.999954  \n",
       "9                        0.999962  \n",
       "10                       0.999967  \n",
       "11                       0.999971  \n",
       "12                       0.999974  \n",
       "13                       0.999977  \n",
       "14                       0.999980  \n",
       "15                       0.999983  \n",
       "16                       0.999985  \n",
       "17                       0.999988  \n",
       "18                       0.999990  \n",
       "19                       0.999992  \n",
       "20                       0.999994  \n",
       "21                       0.999996  \n",
       "22                       0.999997  \n",
       "23                       0.999999  \n",
       "24                       0.999999  \n",
       "25                       1.000000  \n",
       "26                       1.000000  \n",
       "27                       1.000000  \n",
       "28                       1.000000  \n",
       "29                       1.000000  \n",
       "30                       1.000000  \n",
       "31                       1.000000  \n",
       "32                       1.000000  \n",
       "33                       1.000000  "
      ]
     },
     "execution_count": 57,
     "metadata": {},
     "output_type": "execute_result"
    }
   ],
   "source": [
    "cumulative_explained_variance = list(pca.explained_variance_ratio_.cumsum())\n",
    "var['cumulative_explained_variance'] = cumulative_explained_variance\n",
    "var"
   ]
  },
  {
   "cell_type": "markdown",
   "metadata": {},
   "source": [
    "We can see that majority of the variance is explained by the first two principle components "
   ]
  },
  {
   "cell_type": "code",
   "execution_count": 58,
   "metadata": {},
   "outputs": [],
   "source": [
    "# Rotating the data to be parallel to x axis"
   ]
  },
  {
   "cell_type": "code",
   "execution_count": 59,
   "metadata": {},
   "outputs": [],
   "source": [
    "cols = []\n",
    "for i in range(1,35):\n",
    "    cols.append('pc'+str(i)) "
   ]
  },
  {
   "cell_type": "code",
   "execution_count": 60,
   "metadata": {},
   "outputs": [
    {
     "data": {
      "text/plain": [
       "(506, 34)"
      ]
     },
     "execution_count": 60,
     "metadata": {},
     "output_type": "execute_result"
    }
   ],
   "source": [
    "X.shape"
   ]
  },
  {
   "cell_type": "code",
   "execution_count": 61,
   "metadata": {},
   "outputs": [],
   "source": [
    "rotated = pd.DataFrame(pca.fit_transform(X),columns=cols) # Dataframe with principle components"
   ]
  },
  {
   "cell_type": "code",
   "execution_count": 62,
   "metadata": {},
   "outputs": [
    {
     "data": {
      "text/html": [
       "<div>\n",
       "<style scoped>\n",
       "    .dataframe tbody tr th:only-of-type {\n",
       "        vertical-align: middle;\n",
       "    }\n",
       "\n",
       "    .dataframe tbody tr th {\n",
       "        vertical-align: top;\n",
       "    }\n",
       "\n",
       "    .dataframe thead th {\n",
       "        text-align: right;\n",
       "    }\n",
       "</style>\n",
       "<table border=\"1\" class=\"dataframe\">\n",
       "  <thead>\n",
       "    <tr style=\"text-align: right;\">\n",
       "      <th></th>\n",
       "      <th>pc1</th>\n",
       "      <th>pc2</th>\n",
       "      <th>pc3</th>\n",
       "      <th>pc4</th>\n",
       "      <th>pc5</th>\n",
       "      <th>pc6</th>\n",
       "      <th>pc7</th>\n",
       "      <th>pc8</th>\n",
       "      <th>pc9</th>\n",
       "      <th>pc10</th>\n",
       "      <th>...</th>\n",
       "      <th>pc25</th>\n",
       "      <th>pc26</th>\n",
       "      <th>pc27</th>\n",
       "      <th>pc28</th>\n",
       "      <th>pc29</th>\n",
       "      <th>pc30</th>\n",
       "      <th>pc31</th>\n",
       "      <th>pc32</th>\n",
       "      <th>pc33</th>\n",
       "      <th>pc34</th>\n",
       "    </tr>\n",
       "  </thead>\n",
       "  <tbody>\n",
       "    <tr>\n",
       "      <th>0</th>\n",
       "      <td>-919.398060</td>\n",
       "      <td>-502.410851</td>\n",
       "      <td>177.431139</td>\n",
       "      <td>-67.798460</td>\n",
       "      <td>4.435249</td>\n",
       "      <td>-11.717956</td>\n",
       "      <td>14.519054</td>\n",
       "      <td>25.134082</td>\n",
       "      <td>-1.438443</td>\n",
       "      <td>-0.193011</td>\n",
       "      <td>...</td>\n",
       "      <td>-0.428803</td>\n",
       "      <td>-2.637331</td>\n",
       "      <td>-2.695439</td>\n",
       "      <td>-1.329838</td>\n",
       "      <td>-0.379919</td>\n",
       "      <td>-0.531879</td>\n",
       "      <td>-0.054611</td>\n",
       "      <td>-0.012523</td>\n",
       "      <td>0.043065</td>\n",
       "      <td>0.002324</td>\n",
       "    </tr>\n",
       "    <tr>\n",
       "      <th>1</th>\n",
       "      <td>-856.476800</td>\n",
       "      <td>-822.909701</td>\n",
       "      <td>168.166990</td>\n",
       "      <td>30.824700</td>\n",
       "      <td>23.699671</td>\n",
       "      <td>-40.893680</td>\n",
       "      <td>-2.099611</td>\n",
       "      <td>-0.788325</td>\n",
       "      <td>-20.798492</td>\n",
       "      <td>-2.731305</td>\n",
       "      <td>...</td>\n",
       "      <td>-2.079690</td>\n",
       "      <td>0.490575</td>\n",
       "      <td>-0.490741</td>\n",
       "      <td>0.118409</td>\n",
       "      <td>-0.123738</td>\n",
       "      <td>-0.118633</td>\n",
       "      <td>-0.010976</td>\n",
       "      <td>0.032098</td>\n",
       "      <td>0.051946</td>\n",
       "      <td>0.006437</td>\n",
       "    </tr>\n",
       "    <tr>\n",
       "      <th>2</th>\n",
       "      <td>-859.040369</td>\n",
       "      <td>-820.787960</td>\n",
       "      <td>220.208635</td>\n",
       "      <td>-48.285230</td>\n",
       "      <td>41.208688</td>\n",
       "      <td>-48.369847</td>\n",
       "      <td>-6.164920</td>\n",
       "      <td>3.041193</td>\n",
       "      <td>-8.528070</td>\n",
       "      <td>1.072797</td>\n",
       "      <td>...</td>\n",
       "      <td>-1.777460</td>\n",
       "      <td>0.192429</td>\n",
       "      <td>0.403460</td>\n",
       "      <td>-0.264144</td>\n",
       "      <td>-0.621781</td>\n",
       "      <td>0.338044</td>\n",
       "      <td>-0.073138</td>\n",
       "      <td>0.002326</td>\n",
       "      <td>0.050299</td>\n",
       "      <td>-0.000048</td>\n",
       "    </tr>\n",
       "    <tr>\n",
       "      <th>3</th>\n",
       "      <td>-858.149431</td>\n",
       "      <td>-819.698959</td>\n",
       "      <td>244.962740</td>\n",
       "      <td>-54.294045</td>\n",
       "      <td>51.294095</td>\n",
       "      <td>-49.588430</td>\n",
       "      <td>-16.891552</td>\n",
       "      <td>-7.399489</td>\n",
       "      <td>1.117771</td>\n",
       "      <td>4.885926</td>\n",
       "      <td>...</td>\n",
       "      <td>-4.941064</td>\n",
       "      <td>0.569016</td>\n",
       "      <td>0.112997</td>\n",
       "      <td>-0.420516</td>\n",
       "      <td>-0.151288</td>\n",
       "      <td>0.406432</td>\n",
       "      <td>-0.102025</td>\n",
       "      <td>0.057974</td>\n",
       "      <td>0.089709</td>\n",
       "      <td>0.004276</td>\n",
       "    </tr>\n",
       "    <tr>\n",
       "      <th>4</th>\n",
       "      <td>-842.512163</td>\n",
       "      <td>-818.302700</td>\n",
       "      <td>219.488028</td>\n",
       "      <td>-15.095863</td>\n",
       "      <td>42.582585</td>\n",
       "      <td>-45.796877</td>\n",
       "      <td>-15.349693</td>\n",
       "      <td>-11.231651</td>\n",
       "      <td>-4.164587</td>\n",
       "      <td>-1.360259</td>\n",
       "      <td>...</td>\n",
       "      <td>-4.034750</td>\n",
       "      <td>-0.002110</td>\n",
       "      <td>0.461327</td>\n",
       "      <td>-0.041440</td>\n",
       "      <td>-0.688221</td>\n",
       "      <td>0.484592</td>\n",
       "      <td>-0.045852</td>\n",
       "      <td>0.118923</td>\n",
       "      <td>0.085390</td>\n",
       "      <td>0.003825</td>\n",
       "    </tr>\n",
       "  </tbody>\n",
       "</table>\n",
       "<p>5 rows × 34 columns</p>\n",
       "</div>"
      ],
      "text/plain": [
       "          pc1         pc2         pc3        pc4        pc5        pc6  \\\n",
       "0 -919.398060 -502.410851  177.431139 -67.798460   4.435249 -11.717956   \n",
       "1 -856.476800 -822.909701  168.166990  30.824700  23.699671 -40.893680   \n",
       "2 -859.040369 -820.787960  220.208635 -48.285230  41.208688 -48.369847   \n",
       "3 -858.149431 -819.698959  244.962740 -54.294045  51.294095 -49.588430   \n",
       "4 -842.512163 -818.302700  219.488028 -15.095863  42.582585 -45.796877   \n",
       "\n",
       "         pc7        pc8        pc9      pc10    ...         pc25      pc26  \\\n",
       "0  14.519054  25.134082  -1.438443 -0.193011    ...    -0.428803 -2.637331   \n",
       "1  -2.099611  -0.788325 -20.798492 -2.731305    ...    -2.079690  0.490575   \n",
       "2  -6.164920   3.041193  -8.528070  1.072797    ...    -1.777460  0.192429   \n",
       "3 -16.891552  -7.399489   1.117771  4.885926    ...    -4.941064  0.569016   \n",
       "4 -15.349693 -11.231651  -4.164587 -1.360259    ...    -4.034750 -0.002110   \n",
       "\n",
       "       pc27      pc28      pc29      pc30      pc31      pc32      pc33  \\\n",
       "0 -2.695439 -1.329838 -0.379919 -0.531879 -0.054611 -0.012523  0.043065   \n",
       "1 -0.490741  0.118409 -0.123738 -0.118633 -0.010976  0.032098  0.051946   \n",
       "2  0.403460 -0.264144 -0.621781  0.338044 -0.073138  0.002326  0.050299   \n",
       "3  0.112997 -0.420516 -0.151288  0.406432 -0.102025  0.057974  0.089709   \n",
       "4  0.461327 -0.041440 -0.688221  0.484592 -0.045852  0.118923  0.085390   \n",
       "\n",
       "       pc34  \n",
       "0  0.002324  \n",
       "1  0.006437  \n",
       "2 -0.000048  \n",
       "3  0.004276  \n",
       "4  0.003825  \n",
       "\n",
       "[5 rows x 34 columns]"
      ]
     },
     "execution_count": 62,
     "metadata": {},
     "output_type": "execute_result"
    }
   ],
   "source": [
    "rotated.head()"
   ]
  },
  {
   "cell_type": "code",
   "execution_count": 63,
   "metadata": {},
   "outputs": [],
   "source": [
    "# Starting with the first, added pca's one by one.\n",
    "\n",
    "features = list(rotated.columns)\n",
    "mse_list=[]\n",
    "for i in range(1,35):\n",
    "    mse=(kfold_mse(rotated[features[:i]],Y,n_split=10))\n",
    "    mse_list.append(mse)"
   ]
  },
  {
   "cell_type": "code",
   "execution_count": 64,
   "metadata": {},
   "outputs": [
    {
     "data": {
      "image/png": "[encoded data removed]",
      "text/plain": [
       "<matplotlib.figure.Figure at 0x1a19d9ac18>"
      ]
     },
     "metadata": {},
     "output_type": "display_data"
    }
   ],
   "source": [
    "# Plotting MSE vs PCAs\n",
    "plt.figure(figsize=(16,7))\n",
    "plt.plot(range(1,35),mse_list,marker='o')\n",
    "plt.grid(b=True)\n",
    "plt.axvline(x=8,c='r')\n",
    "plt.show()"
   ]
  },
  {
   "cell_type": "code",
   "execution_count": 65,
   "metadata": {},
   "outputs": [
    {
     "data": {
      "text/plain": [
       "29"
      ]
     },
     "execution_count": 65,
     "metadata": {},
     "output_type": "execute_result"
    }
   ],
   "source": [
    "# Finding minimum mse\n",
    "np.argmin(mse_list)"
   ]
  },
  {
   "cell_type": "markdown",
   "metadata": {},
   "source": [
    "30 components give the least cross validated MSE. However, the MSE is pretty much stble after 8 PC's"
   ]
  },
  {
   "cell_type": "code",
   "execution_count": 66,
   "metadata": {},
   "outputs": [],
   "source": [
    "def normalize_feature(array):\n",
    "    \"\"\"\n",
    "    Normalizes a passed feature based on xn = x − xbar / sdx\n",
    "    \"\"\"\n",
    "    mean = array.mean() #mean\n",
    "    std = array.std() # standard deviation\n",
    "    \n",
    "    norm_feature = (array - mean )/std\n",
    "    \n",
    "    return norm_feature"
   ]
  },
  {
   "cell_type": "code",
   "execution_count": 67,
   "metadata": {},
   "outputs": [],
   "source": [
    "# A dataframe with normalized features - Does not include target class\n",
    "normalized_df = pd.DataFrame()\n",
    "for i in X.columns:\n",
    "    normalized_feature = normalize_feature(X[i])\n",
    "    normalized_df[i]=normalized_feature"
   ]
  },
  {
   "cell_type": "code",
   "execution_count": 68,
   "metadata": {},
   "outputs": [],
   "source": [
    "cols = []\n",
    "for i in range(1,35):\n",
    "    cols.append('pc_normalized'+str(i)) "
   ]
  },
  {
   "cell_type": "code",
   "execution_count": 69,
   "metadata": {},
   "outputs": [],
   "source": [
    "# Rotating the data\n",
    "\n",
    "rotated_normalized = pd.DataFrame(pca.fit_transform(normalized_df),columns=cols)"
   ]
  },
  {
   "cell_type": "code",
   "execution_count": 70,
   "metadata": {},
   "outputs": [],
   "source": [
    "features = list(rotated_normalized.columns)\n",
    "mse_list_normalized=[]\n",
    "for i in range(1,35):\n",
    "    mse=(kfold_mse(rotated_normalized[features[:i]],Y,n_split=10))\n",
    "    mse_list_normalized.append(mse)"
   ]
  },
  {
   "cell_type": "code",
   "execution_count": 71,
   "metadata": {},
   "outputs": [
    {
     "data": {
      "image/png": "[encoded data removed]",
      "text/plain": [
       "<matplotlib.figure.Figure at 0x1a15d9bdd8>"
      ]
     },
     "metadata": {},
     "output_type": "display_data"
    }
   ],
   "source": [
    "plt.figure(figsize=(16,7))\n",
    "plt.plot(range(1,35),mse_list_normalized,marker='o')\n",
    "plt.grid(b=True)\n",
    "plt.axvline(x=4,c='r')\n",
    "plt.show()"
   ]
  },
  {
   "cell_type": "code",
   "execution_count": 72,
   "metadata": {},
   "outputs": [
    {
     "data": {
      "text/plain": [
       "29"
      ]
     },
     "execution_count": 72,
     "metadata": {},
     "output_type": "execute_result"
    }
   ],
   "source": [
    "np.argmin(mse_list)"
   ]
  },
  {
   "cell_type": "markdown",
   "metadata": {},
   "source": [
    "The best model is with 4 PCA components as seen from the graph above. After 4 components the MSE remains the same and adding those would only mean using up memeory without adding any information. We see a peak at PCA 26 which may be because of multicollinearity or other voiled assumptions of Linear Regression."
   ]
  },
  {
   "cell_type": "markdown",
   "metadata": {},
   "source": [
    "### Whats the best solution?"
   ]
  },
  {
   "cell_type": "code",
   "execution_count": 73,
   "metadata": {},
   "outputs": [],
   "source": [
    "df = pd.DataFrame(columns=['Model', 'Features','MSE','Comments'])\n",
    "df = df.append(pd.Series(['Full Model', '34','24.5','Easiest to do'], index=['Model', 'Features','MSE','Comments']), ignore_index=True)"
   ]
  },
  {
   "cell_type": "code",
   "execution_count": 74,
   "metadata": {},
   "outputs": [],
   "source": [
    "df = df.append(pd.Series(['Forward Selection Model', np.argmin(bic)+1,'22.58','Straightforward to interpret'], index=['Model', 'Features','MSE','Comments']), ignore_index=True)"
   ]
  },
  {
   "cell_type": "code",
   "execution_count": 75,
   "metadata": {},
   "outputs": [],
   "source": [
    "df = df.append(pd.Series(['PCA on raw data', '8','41','Most compact'], index=['Model', 'Features','MSE','Comments']), ignore_index=True)"
   ]
  },
  {
   "cell_type": "code",
   "execution_count": 76,
   "metadata": {},
   "outputs": [],
   "source": [
    "df = df.append(pd.Series(['PCA on normalized data', '4','30','Most precise'], index=['Model', 'Features','MSE','Comments']), ignore_index=True)"
   ]
  },
  {
   "cell_type": "code",
   "execution_count": 77,
   "metadata": {},
   "outputs": [
    {
     "data": {
      "text/html": [
       "<div>\n",
       "<style scoped>\n",
       "    .dataframe tbody tr th:only-of-type {\n",
       "        vertical-align: middle;\n",
       "    }\n",
       "\n",
       "    .dataframe tbody tr th {\n",
       "        vertical-align: top;\n",
       "    }\n",
       "\n",
       "    .dataframe thead th {\n",
       "        text-align: right;\n",
       "    }\n",
       "</style>\n",
       "<table border=\"1\" class=\"dataframe\">\n",
       "  <thead>\n",
       "    <tr style=\"text-align: right;\">\n",
       "      <th></th>\n",
       "      <th>Model</th>\n",
       "      <th>Features</th>\n",
       "      <th>MSE</th>\n",
       "      <th>Comments</th>\n",
       "    </tr>\n",
       "  </thead>\n",
       "  <tbody>\n",
       "    <tr>\n",
       "      <th>0</th>\n",
       "      <td>Full Model</td>\n",
       "      <td>34</td>\n",
       "      <td>24.5</td>\n",
       "      <td>Easiest to do</td>\n",
       "    </tr>\n",
       "    <tr>\n",
       "      <th>1</th>\n",
       "      <td>Forward Selection Model</td>\n",
       "      <td>20</td>\n",
       "      <td>22.58</td>\n",
       "      <td>Straightforward to interpret</td>\n",
       "    </tr>\n",
       "    <tr>\n",
       "      <th>2</th>\n",
       "      <td>PCA on raw data</td>\n",
       "      <td>8</td>\n",
       "      <td>41</td>\n",
       "      <td>Most compact</td>\n",
       "    </tr>\n",
       "    <tr>\n",
       "      <th>3</th>\n",
       "      <td>PCA on normalized data</td>\n",
       "      <td>4</td>\n",
       "      <td>30</td>\n",
       "      <td>Most precise</td>\n",
       "    </tr>\n",
       "  </tbody>\n",
       "</table>\n",
       "</div>"
      ],
      "text/plain": [
       "                     Model Features    MSE                      Comments\n",
       "0               Full Model       34   24.5                 Easiest to do\n",
       "1  Forward Selection Model       20  22.58  Straightforward to interpret\n",
       "2          PCA on raw data        8     41                  Most compact\n",
       "3   PCA on normalized data        4     30                  Most precise"
      ]
     },
     "execution_count": 77,
     "metadata": {},
     "output_type": "execute_result"
    }
   ],
   "source": [
    "df"
   ]
  },
  {
   "cell_type": "code",
   "execution_count": null,
   "metadata": {},
   "outputs": [],
   "source": []
  }
 ],
 "metadata": {
  "kernelspec": {
   "display_name": "Python 3",
   "language": "python",
   "name": "python3"
  },
  "language_info": {
   "codemirror_mode": {
    "name": "ipython",
    "version": 3
   },
   "file_extension": ".py",
   "mimetype": "text/x-python",
   "name": "python",
   "nbconvert_exporter": "python",
   "pygments_lexer": "ipython3",
   "version": "3.6.4"
  }
 },
 "nbformat": 4,
 "nbformat_minor": 2
}
